{
 "cells": [
  {
   "cell_type": "markdown",
   "id": "171c9ccb",
   "metadata": {
    "toc": true
   },
   "source": [
    "<h1>Table of Contents<span class=\"tocSkip\"></span></h1>\n",
    "<div class=\"toc\"><ul class=\"toc-item\"><li><span><a href=\"#Warning\" data-toc-modified-id=\"Warning-1\"><span class=\"toc-item-num\">1&nbsp;&nbsp;</span>Warning</a></span></li><li><span><a href=\"#Packages-import\" data-toc-modified-id=\"Packages-import-2\"><span class=\"toc-item-num\">2&nbsp;&nbsp;</span>Packages import</a></span></li><li><span><a href=\"#Datasets-selection\" data-toc-modified-id=\"Datasets-selection-3\"><span class=\"toc-item-num\">3&nbsp;&nbsp;</span>Datasets selection</a></span></li><li><span><a href=\"#Quantification\" data-toc-modified-id=\"Quantification-4\"><span class=\"toc-item-num\">4&nbsp;&nbsp;</span>Quantification</a></span><ul class=\"toc-item\"><li><span><a href=\"#Prepare-fitting-tool\" data-toc-modified-id=\"Prepare-fitting-tool-4.1\"><span class=\"toc-item-num\">4.1&nbsp;&nbsp;</span>Prepare fitting tool</a></span></li><li><span><a href=\"#Run-fit\" data-toc-modified-id=\"Run-fit-4.2\"><span class=\"toc-item-num\">4.2&nbsp;&nbsp;</span>Run fit</a></span></li></ul></li></ul></div>"
   ]
  },
  {
   "cell_type": "markdown",
   "id": "b2e36e14",
   "metadata": {},
   "source": [
    "# Warning\n",
    "Compared with the reconstruction, the fitting feature in PASTIS remains quite an adventure and some parts of the code can seem a bit obscure to the user. Sorry ;)"
   ]
  },
  {
   "cell_type": "markdown",
   "id": "99611a7f",
   "metadata": {},
   "source": [
    "# Packages import"
   ]
  },
  {
   "cell_type": "code",
   "execution_count": null,
   "id": "250cc9cf",
   "metadata": {},
   "outputs": [],
   "source": [
    "# packages import\n",
    "import pastis.fit as fit\n",
    "import pastis.log as log\n",
    "import pandas as pd\n",
    "\n",
    "# that is not porn sorry! It is a file generated automatically by PASTIS containing useful aliases\n",
    "import pastis.aliases as xxx  \n",
    "\n",
    "# setting logger level\n",
    "# from most verbose to very quiet: DEBUG, INFO, WARN, ERROR\n",
    "log.setLevel(log.ERROR)\n",
    "\n",
    "# setting up matplotlib\n",
    "import matplotlib.pylab as plt\n",
    "%matplotlib notebook\n"
   ]
  },
  {
   "cell_type": "markdown",
   "id": "c45d7706",
   "metadata": {},
   "source": [
    "# Datasets selection\n",
    "Choose what datasets to fit"
   ]
  },
  {
   "cell_type": "code",
   "execution_count": null,
   "id": "a03daeb9",
   "metadata": {},
   "outputs": [],
   "source": [
    "# read pkl file containing all the reconstructed signals (see demo_data_processing notebook)\n",
    "df = pd.read_pickle(\"db_reconstructed_data.pkl\")\n",
    "df"
   ]
  },
  {
   "cell_type": "code",
   "execution_count": null,
   "id": "eb9bce28",
   "metadata": {
    "scrolled": false
   },
   "outputs": [],
   "source": [
    "# for example, I want to fit all raw datasets acquired with a TE below 30ms\n",
    "df = df.loc[df[\"reco_dataset_raw_data_sequence_te\"] > 30]\n",
    "\n",
    "# convert series to dataframe, if needed\n",
    "if(type(df) is pd.core.series.Series):\n",
    "    df = df.to_frame().T\n",
    "\n",
    "df"
   ]
  },
  {
   "cell_type": "markdown",
   "id": "ac8c2b66",
   "metadata": {},
   "source": [
    "# Quantification"
   ]
  },
  {
   "cell_type": "markdown",
   "id": "847e8d58",
   "metadata": {},
   "source": [
    "## Prepare fitting tool"
   ]
  },
  {
   "cell_type": "code",
   "execution_count": null,
   "id": "014d014f",
   "metadata": {},
   "outputs": [],
   "source": [
    "# create fit object\n",
    "fit_tool = fit.fit_pastis()\n",
    "\n",
    "# before the fit, some peak area integration is performed: choose what peak to integrate \n",
    "fit_tool.metabolites_area_integration = [xxx.m_NAA_CH3, xxx.m_Cr_CH3, xxx.m_Cho_CH3]\n",
    "# and their respective integration width (ppm)\n",
    "fit_tool.area_integration_peak_ranges = [0.1, 0.1, 0.1]\n",
    "\n",
    "# choose which metabolites to include in the fit basis set\n",
    "fit_tool.metabolites = [xxx.m_Water,\n",
    "                        xxx.m_LipA,\n",
    "                        xxx.m_LipB,\n",
    "                        xxx.m_LipC,\n",
    "                        xxx.m_NAA,\n",
    "                        xxx.m_NAAG,\n",
    "                        xxx.m_Cr_CH3,\n",
    "                        xxx.m_Cr_CH2,\n",
    "                        xxx.m_PCr,\n",
    "                        xxx.m_GPC,\n",
    "                        xxx.m_PC,\n",
    "                        xxx.m_mI,\n",
    "                        xxx.m_Glu,\n",
    "                        xxx.m_Gln,\n",
    "                        xxx.m_Tau]\n",
    "\n",
    "# --- preparing minimum, maximum and initial fitting parameter sets ---\n",
    "    \n",
    "# create default minimum and maximum parameter sets\n",
    "fit_tool.params_min = fit_tool.params_min.set_default_min().add_macromolecules_min()\n",
    "fit_tool.params_max = fit_tool.params_max.set_default_max().add_macromolecules_max()\n",
    "\n",
    "# initial parameter values for fit\n",
    "fit_tool.params_init = (fit_tool.params_min + fit_tool.params_max) / 2.0\n",
    "\n",
    "# --- concentrations\n",
    "    \n",
    "# fit ranges for concentration for all metabolites and macromolecules\n",
    "fit_tool.params_min[:, xxx.p_cm] = 0.0\n",
    "fit_tool.params_max[:, xxx.p_cm] = 200.0\n",
    "# increase maximum concentration for all macromolecules\n",
    "fit_tool.params_max[xxx.m_All_MMs, xxx.p_cm] = 1000.0\n",
    "\n",
    "# set initial concentrations to zero\n",
    "fit_tool.params_init[:, xxx.p_cm] = 0.0\n",
    "# start fit with 0.1 concentrations for metabolites in basis set\n",
    "fit_tool.params_init[fit_tool.metabolites, xxx.p_cm] = 0.1\n",
    "    \n",
    "# --- linewidths\n",
    "    \n",
    "# minimal damping for all metabolites and macromolecules\n",
    "fit_tool.params_min[:, xxx.p_dd] = 5\n",
    "\n",
    "# increase damping ranges for all macromolecules (these are usually broad peaks)\n",
    "fit_tool.params_min[xxx.m_All_MMs, xxx.p_dd] = 150\n",
    "fit_tool.params_max[xxx.m_All_MMs, xxx.p_dd] = 300\n",
    "    \n",
    "# start fit with minimal linewidth (= narrow peaks)\n",
    "fit_tool.params_init[:, xxx.p_dd] = fit_tool.params_min[:, xxx.p_dd] * 1.1\n",
    "\n",
    "# --- frequency shifts\n",
    "\n",
    "# frequency shift ranges for all metabolites and MMs\n",
    "fit_tool.params_min[:, xxx.p_df] = -10.0\n",
    "fit_tool.params_max[:, xxx.p_df] = 10.0\n",
    "# start fit with no frequency shifts\n",
    "fit_tool.params_init[:, xxx.p_df] = 0.0\n",
    "\n",
    "# -- phase shifts\n",
    "    \n",
    "# phase shift ranges for all metabolites and MMs\n",
    "fit_tool.params_min[:, xxx.p_dp] = -0.1\n",
    "fit_tool.params_max[:, xxx.p_dp] = +0.1\n",
    "# start fit with no phase shifts\n",
    "fit_tool.params_init[:, xxx.p_dp] = 0.0\n",
    "\n",
    "# --- set relations between parameters ---\n",
    "\n",
    "# first, let's lock all the metabolites\n",
    "fit_tool.params_linklock[:] = xxx.ll_FIXED\n",
    "\n",
    "# except the metabolites included in the fit basis set\n",
    "fit_tool.params_linklock[fit_tool.metabolites, :] = xxx.ll_FREE\n",
    "\n",
    "# we want a global phase for all metabolites and macromolecules\n",
    "# in practice we will specify that all phase shifts are obeying the phase of Creatine\n",
    "fit_tool.params_linklock[fit_tool.metabolites, xxx.p_dp] = xxx.ll_SLAVE1\n",
    "fit_tool.params_linklock[xxx.m_Cr_CH3, xxx.p_dp] = xxx.ll_MASTER1\n",
    "\n",
    "# --- an exception for water ---\n",
    "\n",
    "# all water fitting parameters are free\n",
    "fit_tool.params_linklock[xxx.m_Water, :] = xxx.ll_FREE\n",
    "\n",
    "# water max concentration is increased\n",
    "fit_tool.params_max[xxx.m_Water, xxx.p_cm] = 1000"
   ]
  },
  {
   "cell_type": "markdown",
   "id": "916b1bc0",
   "metadata": {},
   "source": [
    "## Run fit\n",
    "This following code calls the fit tool prepared above on a set of datasets."
   ]
  },
  {
   "cell_type": "code",
   "execution_count": null,
   "id": "948f60a2",
   "metadata": {
    "scrolled": false
   },
   "outputs": [],
   "source": [
    "# list to save fit results\n",
    "fit_results_list = []\n",
    "\n",
    "# browse though datasets\n",
    "for this_index, this_row in df.iterrows():\n",
    "\n",
    "    # pick reconstructed raw data\n",
    "    this_data = this_row[\"reco_dataset_raw_data_obj\"]\n",
    "    \n",
    "    # remove water residue from data\n",
    "    this_data = this_data.correct_peak_removal_1d(50, [4.3, 6], False)\n",
    "    \n",
    "    # initialize fit tool\n",
    "    this_fit = fit_tool.copy()\n",
    "    \n",
    "    # feed data to the fit tool\n",
    "    this_fit.data = this_data\n",
    "        \n",
    "    # run the fit\n",
    "    this_fit.run()\n",
    "\n",
    "    # get the fit results\n",
    "    this_fit_df = this_fit.to_dataframe()\n",
    "    \n",
    "    # store the results\n",
    "    fit_results_list.append(this_fit_df)\n",
    "\n",
    "# append all the results and store\n",
    "df_fit_results = pd.concat(fit_results_list, axis=0)\n",
    "df_fit_results.to_pickle(\"db_fit_results.pkl\")\n"
   ]
  }
 ],
 "metadata": {
  "kernelspec": {
   "display_name": "Python 3 (ipykernel)",
   "language": "python",
   "name": "python3"
  },
  "language_info": {
   "codemirror_mode": {
    "name": "ipython",
    "version": 3
   },
   "file_extension": ".py",
   "mimetype": "text/x-python",
   "name": "python",
   "nbconvert_exporter": "python",
   "pygments_lexer": "ipython3",
   "version": "3.8.12"
  },
  "toc": {
   "base_numbering": 1,
   "nav_menu": {},
   "number_sections": true,
   "sideBar": true,
   "skip_h1_title": false,
   "title_cell": "Table of Contents",
   "title_sidebar": "Contents",
   "toc_cell": true,
   "toc_position": {},
   "toc_section_display": true,
   "toc_window_display": true
  }
 },
 "nbformat": 4,
 "nbformat_minor": 5
}
