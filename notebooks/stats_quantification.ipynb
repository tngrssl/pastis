{
 "cells": [
  {
   "cell_type": "code",
   "execution_count": 1,
   "metadata": {
    "ExecuteTime": {
     "end_time": "2020-12-08T13:29:03.298205Z",
     "start_time": "2020-12-08T13:28:53.968297Z"
    },
    "jupyter": {
     "outputs_hidden": true
    },
    "scrolled": true
   },
   "outputs": [
    {
     "name": "stdout",
     "output_type": "stream",
     "text": [
      "\u001b[H\u001b[2J"
     ]
    },
    {
     "name": "stderr",
     "output_type": "stream",
     "text": [
      "(DEBUG) Loaded backend nbAgg version unknown.\n"
     ]
    }
   ],
   "source": [
    "import os\n",
    "os.chdir(\"/home/tangir/crmbm/python/pastis\")\n",
    "\n",
    "from IPython import get_ipython\n",
    "get_ipython().magic(\"clear\")\n",
    "\n",
    "import matplotlib.pylab as plt\n",
    "import matplotlib.dates as mdates\n",
    "import mrs.reco as reco\n",
    "import mrs.sim as sim\n",
    "import mrs.log as log\n",
    "import mrs.aliases as xxx\n",
    "import numpy as np\n",
    "import pandas as pd\n",
    "import seaborn as sns\n",
    "from scipy import stats\n",
    "import suspect\n",
    "from datetime import datetime\n",
    "import multiprocessing\n",
    "\n",
    "plt.close(\"all\")\n",
    "plt.rcParams['figure.dpi'] = 75\n",
    "plt.rcParams['figure.max_open_warning'] = 1000\n",
    "plt.rcParams[\"figure.figsize\"] = [8, 6]\n",
    "# get_ipython().magic(\"matplotlib inline\")\n",
    "get_ipython().magic(\"matplotlib notebook\")\n",
    "log.setLevel(log.INFO)\n",
    "\n",
    "cm = sns.color_palette(\"rocket\", as_cmap=True)\n",
    "#pd.set_option('display.max_rows', 50)\n",
    "#pd.options.mode.chained_assignment = None  # default='warn'"
   ]
  },
  {
   "cell_type": "markdown",
   "metadata": {},
   "source": [
    "# Load dataframes from files"
   ]
  },
  {
   "cell_type": "code",
   "execution_count": 2,
   "metadata": {
    "ExecuteTime": {
     "end_time": "2020-12-08T13:29:03.543831Z",
     "start_time": "2020-12-08T13:29:03.301982Z"
    },
    "run_control": {
     "marked": false
    }
   },
   "outputs": [],
   "source": [
    "df_sc_all_reco = pd.read_pickle(\"/home/tangir/crmbm/acq_db/sc_all_reco_notebook.pkl\")\n",
    "df_brain = pd.read_pickle(\"/home/tangir/crmbm/acq_db/brain_notebook.pkl\")"
   ]
  },
  {
   "cell_type": "code",
   "execution_count": null,
   "metadata": {
    "ExecuteTime": {
     "end_time": "2020-12-08T13:31:45.506648Z",
     "start_time": "2020-12-08T13:29:03.545113Z"
    }
   },
   "outputs": [],
   "source": [
    "df_sc_fit = pd.read_pickle(\"/home/tangir/crmbm/acq_db/sc_fit.pkl\")\n",
    "df_sc_fit[\"reco_template_name\"] = \"sc\"\n",
    "\n",
    "df_sc_nodatarej_fit = pd.read_pickle(\"/home/tangir/crmbm/acq_db/sc_nodatarej_fit.pkl\")\n",
    "df_sc_nodatarej_fit[\"reco_template_name\"] = \"sc_nodatarej\"\n",
    "\n",
    "df_sc_nodatarej_norea_fit = pd.read_pickle(\"/home/tangir/crmbm/acq_db/sc_nodatarej_norea_fit.pkl\")\n",
    "df_sc_nodatarej_norea_fit[\"reco_template_name\"] = \"sc_nodatarej_norea\"\n",
    "\n",
    "df_brain_fit = pd.read_pickle(\"/home/tangir/crmbm/acq_db/brain_fit.pkl\")\n",
    "df_brain_fit[\"reco_template_name\"] = \"brain\""
   ]
  },
  {
   "cell_type": "markdown",
   "metadata": {},
   "source": [
    "# Join dataframes"
   ]
  },
  {
   "cell_type": "code",
   "execution_count": null,
   "metadata": {},
   "outputs": [],
   "source": [
    "df_sc_all_reco = df_sc_all_reco.reset_index()\n",
    "df_brain = df_brain.reset_index()\n",
    "#\n",
    "df_sc_fit = pd.concat([df_sc_fit, df_sc_nodatarej_fit, df_sc_nodatarej_norea_fit])\n",
    "df_sc_fit = df_sc_fit.reset_index()\n",
    "#\n",
    "df_brain_fit = df_brain_fit.reset_index()"
   ]
  },
  {
   "cell_type": "code",
   "execution_count": null,
   "metadata": {
    "ExecuteTime": {
     "end_time": "2020-12-08T13:31:48.322732Z",
     "start_time": "2020-12-08T13:31:45.512649Z"
    }
   },
   "outputs": [],
   "source": [
    "df_sc_all_reco = pd.merge(df_sc_all_reco, df_sc_fit, left_on=[\"index\", \"reco_template_name\"], right_on=[\"fit_ws_data_file_hash\", \"reco_template_name\"], how=\"inner\")\n",
    "df_sc_all_reco = df_sc_all_reco.rename(columns = {'index': 'data_hash'})\n",
    "df_sc_all_reco = df_sc_all_reco.set_index([\"data_hash\", \"reco_template_name\", \"fit_ws_fit_hash\"])\n",
    "\n",
    "df_brain = pd.merge(df_brain, df_brain_fit, left_on=[\"index\", \"reco_template_name\"], right_on=[\"fit_ws_data_file_hash\", \"reco_template_name\"], how=\"inner\")\n",
    "df_brain = df_brain.rename(columns = {'index': 'data_hash'})\n",
    "df_brain = df_brain.set_index([\"data_hash\", \"reco_template_name\", \"fit_ws_fit_hash\"])"
   ]
  },
  {
   "cell_type": "markdown",
   "metadata": {},
   "source": [
    "# Recalculate metabolite parameters\n",
    "## T2 correction"
   ]
  },
  {
   "cell_type": "code",
   "execution_count": null,
   "metadata": {},
   "outputs": [],
   "source": [
    "def recalculate_metabolite_concentrations(this_df):\n",
    "    # fit\n",
    "    # T2 correction\n",
    "    this_df[\"fit_ws_params_fit_t2cor_obj\"] = [o.correct_T2s(te) for o,te in zip(this_df[\"fit_ws_params_fit_obj\"], this_df[\"reco_dataset_raw_data_sequence_te\"])]\n",
    "    this_df[\"fit_nows_params_fit_t2cor_obj\"] = [o.correct_T2s(te) for o,te in zip(this_df[\"fit_nows_params_fit_obj\"], this_df[\"reco_dataset_raw_data_sequence_te\"])]\n",
    "\n",
    "    return(this_df)\n",
    "\n",
    "# multiproc run\n",
    "#pool = multiprocessing.Pool()\n",
    "#a = pool.map(recalculate_metabolite_concentrations, [df_brain, df_sc_all_reco])\n",
    "df_brain = recalculate_metabolite_concentrations(df_brain)\n",
    "df_sc_all_reco = recalculate_metabolite_concentrations(df_sc_all_reco)\n"
   ]
  },
  {
   "cell_type": "markdown",
   "metadata": {},
   "source": [
    "## Breakdown params into columns"
   ]
  },
  {
   "cell_type": "code",
   "execution_count": null,
   "metadata": {},
   "outputs": [],
   "source": [
    "cols2breakdown_list = [\"fit_ws_params_fit_obj\",\n",
    "                       \"fit_ws_params_fit_t2cor_obj\",\n",
    "                       \"fit_nows_params_fit_t2cor_obj\"]\n",
    "\n",
    "def breakdown_params_into_columns(this_df):\n",
    "\n",
    "    # remove all params columns\n",
    "    this_df = this_df.reset_index()\n",
    "    cols2remove_list = this_df.columns[this_df.columns.str.contains(\"\\|\")].to_list()\n",
    "    this_df = this_df.drop(cols2remove_list, axis=1)\n",
    "\n",
    "    # for each column, break down, concat\n",
    "    this_df_new_columns_list = []\n",
    "    for c in cols2breakdown_list:\n",
    "        c_prefix = c[:-3]\n",
    "        print(c_prefix)\n",
    "\n",
    "        # break down, keep only concentrations\n",
    "        this_df_list = [o.to_dataframe(c_prefix).filter(regex=\"cm\\|\") if(type(o) is not float) else None for o in this_df[c]]\n",
    "\n",
    "        this_df_new_columns = pd.concat(this_df_list)\n",
    "\n",
    "        # add to list of new columns\n",
    "        this_df_new_columns_list.append(this_df_new_columns.reset_index())\n",
    "\n",
    "    this_df = pd.concat([this_df] + this_df_new_columns_list, axis=1)\n",
    "    this_df = this_df.set_index([\"data_hash\", \"reco_template_name\", \"fit_ws_fit_hash\"])\n",
    "    \n",
    "    # clean-up: remove index and all params_obj columns\n",
    "    this_df = this_df.drop(\"index\", axis=1) # from previous reset_index\n",
    "    this_df = this_df.rename(columns = {\"fit_ws_params_fit_obj\": \"final_fit_params_arr\"})\n",
    "    cols2remove = this_df.columns[this_df.columns.str.contains(\"_params_\") & this_df.columns.str.endswith(\"_obj\")]\n",
    "    this_df = this_df.drop(cols2remove, axis=1)\n",
    "\n",
    "    return(this_df)\n",
    "\n",
    "df_brain = breakdown_params_into_columns(df_brain)\n",
    "df_sc_all_reco = breakdown_params_into_columns(df_sc_all_reco)\n"
   ]
  },
  {
   "cell_type": "markdown",
   "metadata": {},
   "source": [
    "## Combine some metabolite estimates"
   ]
  },
  {
   "cell_type": "code",
   "execution_count": null,
   "metadata": {},
   "outputs": [],
   "source": [
    "combined_metabolites_dict = {\"tNAA\": [\"NAA\", \"NAAG\"],\n",
    "                             \"tCr\": [\"Cr_CH3\", \"PCr\"],\n",
    "                             \"tCho\": [\"GPC\", \"PC\"]}  \n",
    "\n",
    "def additional_columns(this_df):\n",
    "\n",
    "    for this_param_type in cols2breakdown_list:\n",
    "        print(this_param_type)\n",
    "        for this_meta_parent, this_meta_children_list in combined_metabolites_dict.items():\n",
    "\n",
    "            # init concentration\n",
    "            this_meta_parent_key = this_param_type[:-3] + \"cm|\" + this_meta_parent + \"|\" + \"val\"\n",
    "            this_df[this_meta_parent_key] = 0.0\n",
    "            print(this_meta_parent_key)\n",
    "\n",
    "            # summing up estimated concentrations\n",
    "            for this_meta_child in this_meta_children_list:\n",
    "                this_meta_child_key = this_param_type[:-3] + \"cm|\" + this_meta_child + \"|\" + \"val\"\n",
    "                this_df[this_meta_parent_key] += this_df[this_meta_child_key]\n",
    "\n",
    "            # init error\n",
    "            this_meta_parent_key = this_param_type[:-3] + \"cm|\" + this_meta_parent + \"|\" + \"err\"\n",
    "            this_df[this_meta_parent_key] = 0.0\n",
    "            print(this_meta_parent_key)\n",
    "\n",
    "            # summing up squared of errors\n",
    "            for this_meta_child in this_meta_children_list:\n",
    "                this_meta_child_key = this_param_type[:-3] + \"cm|\" + this_meta_child + \"|\" + \"err\"\n",
    "                this_df[this_meta_parent_key] += this_df[this_meta_child_key]**2\n",
    "\n",
    "            # sqrt the sum of squares\n",
    "            this_df[this_meta_parent_key] = [np.sqrt(e) for e in this_df[this_meta_parent_key]]\n",
    "\n",
    "    return(this_df)\n",
    "\n",
    "df_brain = additional_columns(df_brain)\n",
    "df_sc_all_reco = additional_columns(df_sc_all_reco)"
   ]
  },
  {
   "cell_type": "markdown",
   "metadata": {},
   "source": [
    "## Calculate metabolite absolute and ratio concentrations"
   ]
  },
  {
   "cell_type": "code",
   "execution_count": null,
   "metadata": {},
   "outputs": [],
   "source": [
    "water_concentration = 55000.0\n",
    "\n",
    "def recalculate_metabolite_abs_ratios(this_df):\n",
    "\n",
    "    fit_ws_params_fit_t2cor_columns_list = this_df.columns[this_df.columns.str.startswith(\"fit_ws_params_fit_t2cor_cm\") & this_df.columns.str.endswith(\"|val\")].tolist()\n",
    "\n",
    "    for this_col in fit_ws_params_fit_t2cor_columns_list:\n",
    "        \n",
    "        # calculate relative CRB errors in (%)\n",
    "        this_err_col = this_col.replace(\"|val\", \"|err\")\n",
    "        this_err_prct_col = this_col.replace(\"|val\", \"|err_prct\")\n",
    "        this_df[this_err_prct_col] = this_df[this_err_col] / this_df[this_col] * 100.0\n",
    "\n",
    "        # absolute concentrations rel. to water\n",
    "        this_abs_val_col = this_col.replace(\"fit_ws_params_fit_t2cor_cm\", \"fit_ws_params_fit_t2cor_abs_cm\")\n",
    "        this_water_val_col = \"fit_nows_params_fit_t2cor_cm|Water|val\"\n",
    "        this_df[this_abs_val_col] = this_df[this_col] * water_concentration / this_df[this_water_val_col]\n",
    "        # and its error: propagating metabolite/water errors\n",
    "        this_err_col = this_col.replace(\"|val\", \"|err\")\n",
    "        this_abs_err_col = this_col.replace(\"fit_ws_params_fit_t2cor_cm\", \"fit_ws_params_fit_t2cor_abs_cm\").replace(\"|val\", \"|err\")\n",
    "        this_abs_err_prct_col = this_col.replace(\"fit_ws_params_fit_t2cor_cm\", \"fit_ws_params_fit_t2cor_abs_cm\").replace(\"|val\", \"|err_prct\")\n",
    "        this_water_err_col = \"fit_nows_params_fit_t2cor_cm|Water|err\"\n",
    "        this_df[this_abs_err_col] = [met_abs_cm * np.sqrt((met_err/met_cm)**2 + (water_err/water_cm)**2) if((met_cm > 0) & (water_cm>0)) else np.nan for (met_abs_cm, met_cm, met_err, water_cm, water_err) in zip(this_df[this_abs_val_col], this_df[this_col], this_df[this_err_col], this_df[this_water_val_col], this_df[this_water_err_col])]   \n",
    "        this_df[this_abs_err_prct_col] = this_df[this_abs_err_col] / this_df[this_abs_val_col] * 100.0\n",
    "        \n",
    "        # ratio concentrations rel. to tCr\n",
    "        this_ratio_val_col = this_col.replace(\"fit_ws_params_fit_t2cor_cm\", \"fit_ws_params_fit_t2cor_ratio_cm\")\n",
    "        this_tcr_val_col = \"fit_ws_params_fit_t2cor_cm|tCr|val\"\n",
    "        this_df[this_ratio_val_col] = this_df[this_col] / this_df[this_tcr_val_col]\n",
    "        # and its error: propagating metabolite/tCr errors\n",
    "        this_err_col = this_col.replace(\"|val\", \"|err\")\n",
    "        this_ratio_err_col = this_col.replace(\"fit_ws_params_fit_t2cor_cm\", \"fit_ws_params_fit_t2cor_ratio_cm\").replace(\"|val\", \"|err\")\n",
    "        this_ratio_err_prct_col = this_col.replace(\"fit_ws_params_fit_t2cor_cm\", \"fit_ws_params_fit_t2cor_ratio_cm\").replace(\"|val\", \"|err_prct\")\n",
    "        this_tcr_err_col = \"fit_ws_params_fit_t2cor_cm|tCr|err\"\n",
    "        this_df[this_ratio_err_col] = [met_ratio_cm * np.sqrt((met_err/met_cm)**2 + (tcr_err/tcr_cm)**2) if((met_cm > 0) & (tcr_cm>0)) else np.nan for (met_ratio_cm, met_cm, met_err, tcr_cm, tcr_err) in zip(this_df[this_ratio_val_col], this_df[this_col], this_df[this_err_col], this_df[this_tcr_val_col], this_df[this_tcr_err_col])]   \n",
    "        this_df[this_ratio_err_prct_col] = this_df[this_ratio_err_col] / this_df[this_ratio_val_col] * 100.0\n",
    "\n",
    "    return(this_df)\n",
    "\n",
    "df_brain = recalculate_metabolite_abs_ratios(df_brain)\n",
    "df_sc_all_reco = recalculate_metabolite_abs_ratios(df_sc_all_reco)"
   ]
  },
  {
   "cell_type": "markdown",
   "metadata": {},
   "source": [
    "# Correlation matrix analysis\n",
    "In case I missed something interesting!"
   ]
  },
  {
   "cell_type": "code",
   "execution_count": null,
   "metadata": {
    "ExecuteTime": {
     "end_time": "2020-12-08T13:32:00.825316Z",
     "start_time": "2020-12-08T13:31:59.037427Z"
    }
   },
   "outputs": [],
   "source": [
    "def list_highest_corr(this_df_corr, column_name):\n",
    "\n",
    "    this_df_corr2 = this_df_corr[column_name]\n",
    "    this_df_corr2 = this_df_corr2.loc[this_df_corr2.abs() < (1.00 - 1e-6)]\n",
    "    this_df_corr2 = this_df_corr2.loc[this_df_corr2.abs() > 0.5]\n",
    "    this_df_corr2 = this_df_corr2.iloc[(-this_df_corr2.abs()).argsort()]\n",
    "    return(this_df_corr2)\n",
    "\n",
    "df = df_sc_all_reco\n",
    "# correlate only numeric fields\n",
    "df_num = df.select_dtypes(include=np.number)   \n",
    "df_corr = df_num.corr(min_periods=5)\n",
    "pd.set_option('display.max_rows', 500)\n"
   ]
  },
  {
   "cell_type": "code",
   "execution_count": null,
   "metadata": {
    "ExecuteTime": {
     "end_time": "2020-12-08T13:32:00.832528Z",
     "start_time": "2020-12-08T13:32:00.826410Z"
    },
    "scrolled": true
   },
   "outputs": [],
   "source": [
    "this_df_corr = list_highest_corr(df_corr, \"snr_final\")\n",
    "this_df_corr"
   ]
  },
  {
   "cell_type": "markdown",
   "metadata": {},
   "source": [
    "* The SNR is correlated with:\n",
    "    * water signal intensity\n",
    "    * phase, amplitude std (negative)"
   ]
  },
  {
   "cell_type": "code",
   "execution_count": null,
   "metadata": {
    "ExecuteTime": {
     "end_time": "2020-12-08T13:32:00.851380Z",
     "start_time": "2020-12-08T13:32:00.833684Z"
    },
    "scrolled": true
   },
   "outputs": [],
   "source": [
    "this_df_corr = list_highest_corr(df_corr, \"patient_bmi\")\n",
    "this_df_corr"
   ]
  },
  {
   "cell_type": "markdown",
   "metadata": {},
   "source": [
    "* BMI is correlated with:\n",
    "    * patient weight/height etc.\n",
    "    * f0 frequency !\n",
    "    * voxel Y position\n",
    "    * sequence TR\n",
    "    * CSDEs\n",
    "    * SNR (negative)\n",
    "    * sequence Vref\n",
    "    * sequence pulse duration\n",
    "    * shim n*4 (ZX)"
   ]
  },
  {
   "cell_type": "code",
   "execution_count": null,
   "metadata": {
    "ExecuteTime": {
     "end_time": "2020-12-08T13:32:00.859340Z",
     "start_time": "2020-12-08T13:32:00.852872Z"
    },
    "scrolled": true
   },
   "outputs": [],
   "source": [
    "this_df_corr = list_highest_corr(df_corr, \"lw_final\")\n",
    "this_df_corr"
   ]
  },
  {
   "cell_type": "markdown",
   "metadata": {},
   "source": [
    "* Linewidth is correlated with:\n",
    "    * some small metabolites error\n",
    "    * metabolites damping factors\n",
    "    * prejection linewidth std"
   ]
  },
  {
   "cell_type": "code",
   "execution_count": null,
   "metadata": {
    "ExecuteTime": {
     "end_time": "2020-12-08T13:32:00.870546Z",
     "start_time": "2020-12-08T13:32:00.860601Z"
    },
    "scrolled": true
   },
   "outputs": [],
   "source": [
    "this_df_corr = list_highest_corr(df_corr, \"reco_dataset_raw_data_sequence_vref\")\n",
    "this_df_corr"
   ]
  },
  {
   "cell_type": "markdown",
   "metadata": {},
   "source": [
    "* Vref is correlated with:\n",
    "    * sequence TR\n",
    "    * sequence pulse duration\n",
    "    * CSDEs\n",
    "    * voxel Y position (negative)\n",
    "    * patient BMI/weight/height etc.\n",
    "    * acquisition duration\n",
    "    * shims (sum) (negative)\n",
    "    * shims (2nd order) (negative)"
   ]
  },
  {
   "cell_type": "code",
   "execution_count": null,
   "metadata": {
    "ExecuteTime": {
     "end_time": "2020-12-08T13:32:00.886559Z",
     "start_time": "2020-12-08T13:32:00.871882Z"
    },
    "scrolled": true
   },
   "outputs": [],
   "source": [
    "this_df_corr = list_highest_corr(df_corr, \"reco_dataset_raw_data_sequence_te\")\n",
    "this_df_corr"
   ]
  },
  {
   "cell_type": "markdown",
   "metadata": {},
   "source": [
    "* TE is correlated with:\n",
    "    * sequence pulse duration\n",
    "    * sequence pulse R\n",
    "    * sequence pulse N (negative)"
   ]
  },
  {
   "cell_type": "code",
   "execution_count": null,
   "metadata": {
    "ExecuteTime": {
     "end_time": "2020-12-08T13:32:00.904041Z",
     "start_time": "2020-12-08T13:32:00.892106Z"
    },
    "scrolled": true
   },
   "outputs": [],
   "source": [
    "this_df_corr = list_highest_corr(df_corr, \"fit_ws_params_fit_cm|NAA_CH3|err\")\n",
    "this_df_corr"
   ]
  },
  {
   "cell_type": "markdown",
   "metadata": {},
   "source": [
    "* CRB(NAA) is correlated with:\n",
    "    * other metabolites' CRBs\n",
    "    * no acquisition parameters"
   ]
  },
  {
   "cell_type": "code",
   "execution_count": null,
   "metadata": {
    "ExecuteTime": {
     "end_time": "2020-12-08T13:32:00.913776Z",
     "start_time": "2020-12-08T13:32:00.908689Z"
    }
   },
   "outputs": [],
   "source": [
    "pd.set_option('display.max_rows', 50)"
   ]
  },
  {
   "cell_type": "markdown",
   "metadata": {},
   "source": [
    "# Free some memory"
   ]
  },
  {
   "cell_type": "code",
   "execution_count": null,
   "metadata": {
    "ExecuteTime": {
     "end_time": "2020-12-08T13:32:41.724644Z",
     "start_time": "2020-12-08T13:32:40.846610Z"
    }
   },
   "outputs": [],
   "source": [
    "except_list = [\"df_sc_all_reco\", \"df_brain\"]\n",
    "\n",
    "for var_name in dir():\n",
    "    if(eval(\"type(\" + var_name + \")\") == pd.DataFrame and var_name not in except_list):\n",
    "        del globals()[var_name]\n"
   ]
  },
  {
   "cell_type": "markdown",
   "metadata": {},
   "source": [
    "# Additional columns"
   ]
  },
  {
   "cell_type": "code",
   "execution_count": null,
   "metadata": {},
   "outputs": [],
   "source": [
    "def additional_columns(this_df):\n",
    "    this_df[\"fit_ws_metabolites_len\"] = [len(mbl) if (type(mbl) is not float) else 1 for mbl in this_df[\"fit_ws_metabolites\"]]\n",
    "    this_df[\"fit_ws_sequence_str\"] = [\"press\" if(\"press\" in s) else \"none\" for s in this_df[\"fit_ws_sequence\"].astype(str)]\n",
    "    this_df[\"fit_tool_name\"] = [\"pastis\" if(\"pastis\" in s) else \"lcmodel\" for s in this_df[\"fit_ws_name\"]]\n",
    "    \n",
    "    this_df[\"strategy\"] = this_df.index.get_level_values(\"reco_template_name\").astype(str) + \"|\" + \\\n",
    "                this_df[\"fit_tool_name\"].astype(str) + \"|\" + \\\n",
    "                this_df[\"fit_ws_metabolites_len\"].astype(str) + \"|\" + \\\n",
    "                this_df[\"fit_ws_sequence_str\"].astype(str)\n",
    "    \n",
    "    return(this_df)\n",
    "\n",
    "df_brain = additional_columns(df_brain)\n",
    "df_sc_all_reco = additional_columns(df_sc_all_reco)"
   ]
  },
  {
   "cell_type": "markdown",
   "metadata": {},
   "source": [
    "# Convert to a long dataframe\n",
    "in order to be able to do seaborn plots easily"
   ]
  },
  {
   "cell_type": "code",
   "execution_count": null,
   "metadata": {
    "ExecuteTime": {
     "end_time": "2020-12-08T13:32:40.843127Z",
     "start_time": "2020-12-08T13:32:05.831299Z"
    },
    "run_control": {
     "marked": false
    }
   },
   "outputs": [],
   "source": [
    "def convert_to_long(this_df):\n",
    "    \n",
    "    this_df = this_df.reset_index()\n",
    "    \n",
    "    # find all columns not related to params\n",
    "    id_vars_list = this_df.columns[~this_df.columns.str.contains(\"\\|\")]\n",
    "\n",
    "    # melt all those param columns\n",
    "    this_df = this_df.melt(id_vars=id_vars_list, var_name=\"melted_params_name\", value_name=\"param_val\")         \n",
    "\n",
    "    # split columns into metabolite, parameter name, err, etc.\n",
    "    melted_params_name_col = this_df[\"melted_params_name\"]\n",
    "    this_df[\"param_p_type\"] = melted_params_name_col.str.split(\"|\").str[0]\n",
    "    this_df[\"param_m_name\"] = melted_params_name_col.str.split(\"|\").str[1]\n",
    "    this_df[\"param_val_err\"] = melted_params_name_col.str.split(\"|\").str[2]\n",
    "    this_df = this_df.drop(\"melted_params_name\", axis=1)\n",
    "    \n",
    "    this_df = this_df.set_index([\"data_hash\", \"reco_template_name\", \"fit_ws_fit_hash\"])\n",
    "\n",
    "    return(this_df)\n",
    "\n",
    "df_brain = convert_to_long(df_brain)\n",
    "df_sc_all_reco = convert_to_long(df_sc_all_reco)\n"
   ]
  },
  {
   "cell_type": "markdown",
   "metadata": {},
   "source": [
    "# Optimal fit strategy\n",
    "\n",
    "* Which sequence for simulation?\n",
    "* How many metabolites?\n",
    "\n",
    "## Brain data\n",
    "\n",
    "### Fit strategies vs R2/FQN"
   ]
  },
  {
   "cell_type": "code",
   "execution_count": null,
   "metadata": {
    "ExecuteTime": {
     "end_time": "2020-12-08T13:32:42.229657Z",
     "start_time": "2020-12-08T13:32:41.726287Z"
    },
    "scrolled": false
   },
   "outputs": [],
   "source": [
    "df = df_brain.loc[(df_brain.index.get_level_values(\"reco_template_name\") == \"brain\") &\n",
    "                  (df_brain[\"fit_tool_name\"] == \"pastis\")]\n",
    "\n",
    "plt.figure()\n",
    "g = sns.boxplot(x=\"fit_ws_metabolites_len\",  \n",
    "                y=\"fit_ws_optim_results_fqn\",\n",
    "                hue=\"fit_ws_sequence_str\",\n",
    "                data=df)"
   ]
  },
  {
   "cell_type": "code",
   "execution_count": null,
   "metadata": {
    "ExecuteTime": {
     "end_time": "2020-12-08T13:32:42.229657Z",
     "start_time": "2020-12-08T13:32:41.726287Z"
    }
   },
   "outputs": [],
   "source": [
    "plt.figure()\n",
    "g = sns.boxplot(x=\"fit_ws_metabolites_len\", \n",
    "                y=\"fit_ws_optim_results_rsq_f\",\n",
    "                hue=\"fit_ws_sequence_str\",\n",
    "                data=df)\n",
    "\n",
    "plt.figure()\n",
    "g = sns.boxplot(x=\"fit_ws_metabolites_len\", \n",
    "                y=\"fit_ws_optim_results_rsq_t\",\n",
    "                hue=\"fit_ws_sequence_str\",\n",
    "                data=df)\n"
   ]
  },
  {
   "cell_type": "markdown",
   "metadata": {},
   "source": [
    "* Evidemment, the more we include metabolites in the fit basis set, the better is the fit in terms of FQN, R2, etc...\n",
    "* sLASER (\"none\") should be use for the signal simulation/fit"
   ]
  },
  {
   "cell_type": "markdown",
   "metadata": {},
   "source": [
    "### Fit strategies vs CRBs"
   ]
  },
  {
   "cell_type": "code",
   "execution_count": null,
   "metadata": {},
   "outputs": [],
   "source": [
    "df = df_brain.loc[(df_brain.index.get_level_values(\"reco_template_name\") == \"brain\")]\n",
    "\n",
    "# watch CRBs\n",
    "this_df = df.loc[(df[\"fit_tool_name\"] == \"pastis\") &\n",
    "                 (df[\"param_p_type\"] == \"fit_ws_params_fit_t2cor_cm\") &\n",
    "                 (df[\"param_val_err\"] == \"err_prct\") &  \n",
    "                 (df[\"param_m_name\"].isin([\"tCr\", \"tCho\", \"tNAA\", \"Glu\", \"Gln\", \"mI\"]))]\n",
    "\n",
    "g = sns.catplot(x=\"param_m_name\", \n",
    "                y=\"param_val\",\n",
    "                hue=\"fit_ws_sequence_str\", col=\"fit_ws_metabolites_len\", kind=\"box\",\n",
    "                data=this_df)\n",
    "\n",
    "plt.ylim([0, 50])"
   ]
  },
  {
   "cell_type": "markdown",
   "metadata": {},
   "source": [
    "sLASER or PRESS gives really similar CRBs..."
   ]
  },
  {
   "cell_type": "code",
   "execution_count": null,
   "metadata": {
    "ExecuteTime": {
     "end_time": "2020-12-08T13:32:46.147262Z",
     "start_time": "2020-12-08T13:32:42.230730Z"
    },
    "scrolled": false
   },
   "outputs": [],
   "source": [
    "# keep only pastis/sLASER and lcmodel\n",
    "df = df_brain.loc[(df_brain.index.get_level_values(\"reco_template_name\") == \"brain\") &\n",
    "                        (df_brain[\"fit_ws_sequence_str\"] == \"none\")]\n",
    "\n",
    "# watch CRBs\n",
    "this_df = df.loc[(df[\"param_p_type\"] == \"fit_ws_params_fit_t2cor_cm\") &\n",
    "                 (df[\"param_val_err\"] == \"err_prct\") &  \n",
    "                 (df[\"param_m_name\"].isin([\"tCr\", \"tCho\", \"tNAA\", \"Glu\", \"Gln\", \"mI\"]))]\n",
    "\n",
    "g = sns.catplot(x=\"param_m_name\", \n",
    "                y=\"param_val\",\n",
    "                hue=\"fit_ws_metabolites_len\", col=\"fit_tool_name\", kind=\"box\",\n",
    "                data=this_df)\n",
    "\n",
    "plt.ylim([0, 50])"
   ]
  },
  {
   "cell_type": "markdown",
   "metadata": {},
   "source": [
    "* LCModel gives higher CRBs in average than PASTIS!\n",
    "* The number of metabolites is not really affecting the CRBs of the main metabolites (in the brain here) "
   ]
  },
  {
   "cell_type": "markdown",
   "metadata": {},
   "source": [
    "### Fit strategies vs Metabolite ratios"
   ]
  },
  {
   "cell_type": "code",
   "execution_count": null,
   "metadata": {
    "ExecuteTime": {
     "end_time": "2020-12-08T13:32:46.147262Z",
     "start_time": "2020-12-08T13:32:42.230730Z"
    },
    "scrolled": false
   },
   "outputs": [],
   "source": [
    "# keep only pastis/sLASER and lcmodel\n",
    "df = df_brain.loc[(df_brain.index.get_level_values(\"reco_template_name\") == \"brain\") &\n",
    "                        (df_brain[\"fit_ws_sequence_str\"] == \"none\")]\n",
    "\n",
    "# watch CRBs\n",
    "this_df = df.loc[(df[\"param_p_type\"] == \"fit_ws_params_fit_t2cor_ratio_cm\") &\n",
    "                 (df[\"param_val_err\"] == \"val\") &  \n",
    "                 (df[\"param_m_name\"].isin([\"tCr\", \"tCho\", \"tNAA\", \"Glu\", \"Gln\", \"mI\"]))]\n",
    "\n",
    "g = sns.catplot(x=\"param_m_name\", \n",
    "                y=\"param_val\",\n",
    "                hue=\"fit_ws_metabolites_len\", col=\"fit_tool_name\", kind=\"box\",\n",
    "                data=this_df)\n"
   ]
  },
  {
   "cell_type": "markdown",
   "metadata": {},
   "source": [
    "* On brain data, LCModel shows higher variability for some metabolite ratios :)\n",
    "* Regarding number of metabolites to fit, hard to conclude. Better look at the CRBs?"
   ]
  },
  {
   "cell_type": "markdown",
   "metadata": {},
   "source": [
    "## Spinal cord data\n",
    "\n",
    "### Fit strategies vs R2/FQN"
   ]
  },
  {
   "cell_type": "code",
   "execution_count": null,
   "metadata": {
    "ExecuteTime": {
     "end_time": "2020-12-08T13:32:46.517161Z",
     "start_time": "2020-12-08T13:32:46.148529Z"
    },
    "scrolled": false
   },
   "outputs": [],
   "source": [
    "df = df_sc_all_reco.loc[(df_sc_all_reco.index.get_level_values(\"reco_template_name\") == \"sc\") &\n",
    "                        (df_sc_all_reco[\"fit_tool_name\"] == \"pastis\")]\n",
    "\n",
    "plt.figure()\n",
    "g = sns.boxplot(x=\"fit_ws_metabolites_len\",  \n",
    "                y=\"fit_ws_optim_results_fqn\",\n",
    "                hue=\"fit_ws_sequence_str\",\n",
    "                data=df)"
   ]
  },
  {
   "cell_type": "code",
   "execution_count": null,
   "metadata": {
    "scrolled": false
   },
   "outputs": [],
   "source": [
    "plt.figure()\n",
    "g = sns.boxplot(x=\"fit_ws_metabolites_len\", \n",
    "                y=\"fit_ws_optim_results_rsq_f\",\n",
    "                hue=\"fit_ws_sequence_str\",\n",
    "                data=df)\n",
    "\n",
    "plt.figure()\n",
    "g = sns.boxplot(x=\"fit_ws_metabolites_len\", \n",
    "                y=\"fit_ws_optim_results_rsq_t\",\n",
    "                hue=\"fit_ws_sequence_str\",\n",
    "                data=df)"
   ]
  },
  {
   "cell_type": "markdown",
   "metadata": {},
   "source": [
    "* Evidemment, the more we include metabolites in the fit basis set, the better is the fit in terms of FQN, R2, etc...\n",
    "* sLASER (\"none\") should be use for the signal simulation/fit"
   ]
  },
  {
   "cell_type": "markdown",
   "metadata": {},
   "source": [
    "### Fit strategies vs CRBs"
   ]
  },
  {
   "cell_type": "code",
   "execution_count": null,
   "metadata": {
    "ExecuteTime": {
     "end_time": "2020-12-08T13:32:55.684133Z",
     "start_time": "2020-12-08T13:32:46.522517Z"
    },
    "scrolled": false
   },
   "outputs": [],
   "source": [
    "# keep only pastis/sLASER and lcmodel\n",
    "df = df_sc_all_reco.loc[(df_sc_all_reco.index.get_level_values(\"reco_template_name\") == \"sc\") &\n",
    "                        (df_sc_all_reco[\"fit_ws_sequence_str\"] == \"none\")]\n",
    "\n",
    "# watch CRBs\n",
    "this_df = df.loc[(df[\"param_p_type\"] == \"fit_ws_params_fit_t2cor_cm\") &\n",
    "                 (df[\"param_val_err\"] == \"err_prct\") &  \n",
    "                 (df[\"param_m_name\"].isin([\"tCr\", \"tCho\", \"tNAA\", \"Glu\", \"Gln\", \"mI\"]))]\n",
    "\n",
    "g = sns.catplot(x=\"param_m_name\", \n",
    "                y=\"param_val\",\n",
    "                hue=\"fit_ws_metabolites_len\", col=\"fit_tool_name\", kind=\"box\",\n",
    "                data=this_df)\n",
    "\n",
    "plt.ylim([0, 100])"
   ]
  },
  {
   "cell_type": "markdown",
   "metadata": {},
   "source": [
    "* Yes, just like on brain data, LCModel gives higher CRBs than PASTIS!\n",
    "* Seems that n=21 metabolites could be a bit too much and is affecting the CRBs of tCho and Gln?"
   ]
  },
  {
   "cell_type": "markdown",
   "metadata": {},
   "source": [
    "### Fit strategies vs Metabolite ratios"
   ]
  },
  {
   "cell_type": "code",
   "execution_count": null,
   "metadata": {
    "ExecuteTime": {
     "end_time": "2020-12-08T13:32:46.147262Z",
     "start_time": "2020-12-08T13:32:42.230730Z"
    },
    "scrolled": false
   },
   "outputs": [],
   "source": [
    "# keep only pastis/sLASER and lcmodel\n",
    "df = df_sc_all_reco.loc[(df_sc_all_reco.index.get_level_values(\"reco_template_name\") == \"sc\") &\n",
    "                        (df_sc_all_reco[\"fit_ws_sequence_str\"] == \"none\")]\n",
    "\n",
    "# watch CRBs\n",
    "this_df = df.loc[(df[\"param_p_type\"] == \"fit_ws_params_fit_t2cor_ratio_cm\") &\n",
    "                 (df[\"param_val_err\"] == \"val\") &  \n",
    "                 (df[\"param_m_name\"].isin([\"tCr\", \"tCho\", \"tNAA\", \"Glu\", \"Gln\", \"mI\"]))]\n",
    "\n",
    "g = sns.catplot(x=\"param_m_name\", \n",
    "                y=\"param_val\",\n",
    "                hue=\"fit_ws_metabolites_len\", col=\"fit_tool_name\", kind=\"box\",\n",
    "                data=this_df)\n",
    "\n",
    "plt.ylim([0, 4])"
   ]
  },
  {
   "cell_type": "markdown",
   "metadata": {},
   "source": [
    "* We have clearly different results with PASTIS and LCM... \n",
    "* Variability is stronger for some metabolites with LCM"
   ]
  },
  {
   "cell_type": "markdown",
   "metadata": {},
   "source": [
    "# Data quality (SNR & LW)\n",
    "## Annotated SNR vs. LW"
   ]
  },
  {
   "cell_type": "code",
   "execution_count": null,
   "metadata": {},
   "outputs": [],
   "source": [
    "def add_labels(key_x, key_y, key_label, this_df_labels, ax, font_size=10, x_offset=0.0, y_offset=0.0):\n",
    "    for i, pt in this_df_labels.iterrows():\n",
    "        ax.text(pt[key_x] + .02 + x_offset, pt[key_y] + y_offset, str(pt[key_label]), fontsize=font_size)"
   ]
  },
  {
   "cell_type": "code",
   "execution_count": null,
   "metadata": {},
   "outputs": [],
   "source": [
    "threshold_snr_test = 5\n",
    "threshold_lw_test = 20\n",
    "\n",
    "df = df_sc_all_reco.loc[(df_sc_all_reco.index.get_level_values(\"reco_template_name\") == \"sc\") &\n",
    "                        (df_sc_all_reco[\"fit_tool_name\"] == \"pastis\") &\n",
    "                        (df_sc_all_reco[\"fit_ws_metabolites_len\"] == 17) &\n",
    "                        (df_sc_all_reco[\"fit_ws_sequence_str\"] == \"none\")]\n",
    "\n",
    "this_df = df.drop_duplicates(\"patient_pass_id\")\n",
    "\n",
    "plt.figure()\n",
    "g = sns.scatterplot(x=\"lw_final\", y=\"snr_final\", data=this_df)\n",
    "add_labels(\"lw_final\", \"snr_final\", \"patient_pass_id\", this_df, plt.gca())\n",
    "plt.axvline(threshold_lw_test)\n",
    "plt.axhline(threshold_snr_test)\n",
    "plt.grid('on')"
   ]
  },
  {
   "cell_type": "markdown",
   "metadata": {},
   "source": [
    "## Annotated R2 & FQN"
   ]
  },
  {
   "cell_type": "code",
   "execution_count": null,
   "metadata": {
    "ExecuteTime": {
     "end_time": "2020-12-08T13:44:58.966856Z",
     "start_time": "2020-12-08T13:44:58.621448Z"
    },
    "scrolled": false
   },
   "outputs": [],
   "source": [
    "threshold_fqn_test = 2.2\n",
    "\n",
    "df = df_sc_all_reco.loc[(df_sc_all_reco.index.get_level_values(\"reco_template_name\") == \"sc\") &\n",
    "                        (df_sc_all_reco[\"fit_tool_name\"] == \"pastis\") &\n",
    "                        (df_sc_all_reco[\"fit_ws_metabolites_len\"] == 17) &\n",
    "                        (df_sc_all_reco[\"fit_ws_sequence_str\"] == \"none\")]\n",
    "\n",
    "this_df = df.drop_duplicates(\"patient_pass_id\")\n",
    "\n",
    "plt.figure()\n",
    "g = sns.scatterplot(x=\"fit_ws_optim_results_rsq_f\", y=\"fit_ws_optim_results_fqn\", data=this_df)\n",
    "add_labels(\"fit_ws_optim_results_rsq_f\", \"fit_ws_optim_results_fqn\", \"patient_pass_id\", this_df, plt.gca())\n",
    "plt.axhline(threshold_fqn_test)\n",
    "plt.grid('on')\n"
   ]
  },
  {
   "cell_type": "markdown",
   "metadata": {},
   "source": [
    "## CRBs vs. SNR & LW"
   ]
  },
  {
   "cell_type": "code",
   "execution_count": null,
   "metadata": {
    "ExecuteTime": {
     "end_time": "2020-12-08T13:52:01.830255Z",
     "start_time": "2020-12-08T13:51:59.313979Z"
    },
    "scrolled": false
   },
   "outputs": [],
   "source": [
    "df = df_sc_all_reco.loc[(df_sc_all_reco.index.get_level_values(\"reco_template_name\") == \"sc\") &\n",
    "                        (df_sc_all_reco[\"fit_tool_name\"] == \"pastis\") &\n",
    "                        (df_sc_all_reco[\"fit_ws_metabolites_len\"] == 17) &\n",
    "                        (df_sc_all_reco[\"fit_ws_sequence_str\"] == \"none\")]\n",
    "\n",
    "# watch CRBs\n",
    "this_df = df.loc[(df[\"param_p_type\"] == \"fit_ws_params_fit_t2cor_cm\") &\n",
    "                 (df[\"param_val_err\"] == \"err_prct\") &  \n",
    "                 (df[\"param_m_name\"].isin([\"tCr\", \"tCho\", \"tNAA\", \"mI\"]))]\n",
    "\n",
    "# sort by SNR\n",
    "this_df = this_df.sort_values(\"snr_final\")\n",
    "\n",
    "plt.figure()\n",
    "g = sns.lineplot(x=\"snr_final\", y=\"param_val\", hue=\"param_m_name\", data=this_df)\n",
    "\n",
    "plt.ylim([0, 100])"
   ]
  },
  {
   "cell_type": "markdown",
   "metadata": {},
   "source": [
    "## Metabolite ratios vs. SNR & LW"
   ]
  },
  {
   "cell_type": "code",
   "execution_count": null,
   "metadata": {
    "ExecuteTime": {
     "end_time": "2020-12-08T13:52:01.830255Z",
     "start_time": "2020-12-08T13:51:59.313979Z"
    },
    "scrolled": false
   },
   "outputs": [],
   "source": [
    "df = df_sc_all_reco.loc[(df_sc_all_reco.index.get_level_values(\"reco_template_name\") == \"sc\") &\n",
    "                        (df_sc_all_reco[\"fit_tool_name\"] == \"pastis\") &\n",
    "                        (df_sc_all_reco[\"fit_ws_metabolites_len\"] == 17) &\n",
    "                        (df_sc_all_reco[\"fit_ws_sequence_str\"] == \"none\")]\n",
    "\n",
    "# watch ratios\n",
    "this_df = df.loc[(df[\"param_p_type\"] == \"fit_ws_params_fit_t2cor_ratio_cm\") &\n",
    "                 (df[\"param_val_err\"] == \"val\") &  \n",
    "                 (df[\"param_m_name\"].isin([\"tCr\", \"tCho\", \"tNAA\", \"mI\"]))]\n",
    "\n",
    "# sort by SNR\n",
    "this_df = this_df.sort_values(\"snr_final\")\n",
    "\n",
    "plt.figure()\n",
    "g = sns.lineplot(x=\"snr_final\", y=\"param_val\", hue=\"param_m_name\", data=this_df)\n",
    "\n",
    "plt.ylim([0, 5])"
   ]
  },
  {
   "cell_type": "markdown",
   "metadata": {},
   "source": [
    "Well yeah, we do have crazy metabolite concentration ratios when SNR is low but it gets better for higher SNR. Makes sense."
   ]
  },
  {
   "cell_type": "markdown",
   "metadata": {},
   "source": [
    "# Data quality filtering by SNR & LW & FQN\n",
    "and take care of orphan patients, etc."
   ]
  },
  {
   "cell_type": "code",
   "execution_count": null,
   "metadata": {},
   "outputs": [],
   "source": [
    "threshold_snr_final = 5\n",
    "threshold_lw_final = 20\n",
    "threshold_fqn_final = 200\n",
    "\n",
    "ref_reco_template_name_sc = \"sc\"\n",
    "ref_reco_template_name_brain = \"brain\"\n",
    "ref_fit_tool_name = \"pastis\"\n",
    "ref_fit_ws_metabolites_len = 17\n",
    "ref_fit_ws_sequence_str = \"none\"\n",
    "\n",
    "def filter_by_SNR_LW_FQN(this_df, \n",
    "                         this_threshold_snr_final, \n",
    "                         this_threshold_lw_final, \n",
    "                         this_threshold_fqn_final,\n",
    "                         this_ref_reco_template_name, \n",
    "                         this_ref_fit_tool_name, \n",
    "                         this_ref_fit_ws_metabolites_len, \n",
    "                         this_ref_fit_ws_sequence_str):\n",
    "\n",
    "    # add a column\n",
    "    this_df[\"included\"] = False\n",
    "    this_df[\"pass_after_filter\"] = this_df[\"pass\"]\n",
    "    this_df[\"patient_pass_id_after_filter\"] = this_df[\"patient_pass_id\"]\n",
    "    this_df[\"patient_pass_id_pretty_after_filter\"] = this_df[\"patient_pass_id_pretty\"]\n",
    "\n",
    "    # keep only the reference reco_template, fit stategies, etc.\n",
    "    this_df_ref = this_df.loc[(this_df.index.get_level_values(\"reco_template_name\") == this_ref_reco_template_name) &\n",
    "                            (this_df[\"fit_tool_name\"] == this_ref_fit_tool_name) &\n",
    "                            (this_df[\"fit_ws_metabolites_len\"] == this_ref_fit_ws_metabolites_len) &\n",
    "                            (this_df[\"fit_ws_sequence_str\"] == this_ref_fit_ws_sequence_str)]\n",
    "\n",
    "    # apply SNR/LW/FQN filter\n",
    "    this_df_ref_filtered = this_df_ref.loc[(this_df_ref[\"snr_final\"] > this_threshold_snr_final) &\n",
    "                                   (this_df_ref[\"lw_final\"] < this_threshold_lw_final) &\n",
    "                                   (this_df_ref[\"fit_ws_optim_results_fqn\"] < this_threshold_fqn_final)]\n",
    "\n",
    "    # remember the data hash indexes to keep\n",
    "    data_hash_2keep_list = this_df_ref_filtered.index.get_level_values(\"data_hash\").unique().tolist()\n",
    "\n",
    "    # find pass 1 patients\n",
    "    this_df_ref_filtered_p1 = this_df_ref_filtered.loc[(this_df_ref_filtered[\"pass\"] == 1)]\n",
    "    # remember them\n",
    "    patient_id_p1_list = this_df_ref_filtered_p1[\"patient_id\"].unique().tolist()\n",
    "\n",
    "    # find pass 2 patients which are not previously found pass 1 list\n",
    "    this_df_ref_filtered_p2_orphan = this_df_ref_filtered.loc[ (this_df_ref_filtered[\"pass\"] == 2) &\n",
    "                            ~this_df_ref_filtered[\"patient_id\"].isin(patient_id_p1_list) ]\n",
    "\n",
    "    # remember their ids\n",
    "    orphan_patient_id_list = list(this_df_ref_filtered_p2_orphan[\"patient_id\"].unique())\n",
    "    print(\"found %d orphan P2 patients. Fixing them...\" % len(orphan_patient_id_list))\n",
    "    print(orphan_patient_id_list)\n",
    "\n",
    "    # apply filter to whole df\n",
    "    this_df.loc[this_df.index.get_level_values(\"data_hash\").isin(data_hash_2keep_list), \"included\"] = True\n",
    "\n",
    "    # transform the orphan pass 2 patients into pass 1 and rename them\n",
    "    this_df.loc[this_df[\"patient_id\"].isin(orphan_patient_id_list), \"pass_after_filter\"] = 1\n",
    "    this_df.loc[this_df[\"patient_id\"].isin(orphan_patient_id_list), \"patient_pass_id_after_filter\"] = this_df.loc[this_df[\"patient_id\"].isin(orphan_patient_id_list)][\"patient_pass_id\"].str.replace(\"P2\", \"P1\")\n",
    "    this_df.loc[this_df[\"patient_id\"].isin(orphan_patient_id_list), \"patient_pass_id_pretty_after_filter\"] = this_df.loc[this_df[\"patient_id\"].isin(orphan_patient_id_list)][\"patient_pass_id_pretty\"].str.replace(\"P2\", \"P1\")\n",
    "\n",
    "    # print stuff\n",
    "    nP1_orig = len(this_df.loc[(this_df[\"pass\"] == 1)].drop_duplicates(\"patient_id\"))\n",
    "    nP2_orig = len(this_df.loc[(this_df[\"pass\"] == 2)].drop_duplicates(\"patient_id\"))\n",
    "    nP1_after_filter = len(this_df.loc[this_df[\"included\"] & (this_df[\"pass_after_filter\"] == 1)].drop_duplicates(\"patient_id\"))\n",
    "    nP2_after_filter = len(this_df.loc[this_df[\"included\"] & (this_df[\"pass_after_filter\"] == 2)].drop_duplicates(\"patient_id\"))\n",
    "    prct_reject = nP1_after_filter / nP1_orig * 100\n",
    "    print(\"n (P1) = %d / %d (%.2f%% included)\" % (nP1_after_filter, nP1_orig, prct_reject))\n",
    "    print(\"n (P2) = %d / %d\" % (nP2_after_filter, nP2_orig))\n",
    "\n",
    "    return(this_df)\n",
    "\n",
    "df_sc_all_reco = filter_by_SNR_LW_FQN(df_sc_all_reco, \n",
    "                                        threshold_snr_final,\n",
    "                                        threshold_lw_final,\n",
    "                                        threshold_fqn_final,\n",
    "                                        ref_reco_template_name_sc, \n",
    "                                        ref_fit_tool_name, \n",
    "                                        ref_fit_ws_metabolites_len, \n",
    "                                        ref_fit_ws_sequence_str)\n",
    "\n",
    "df_brain = filter_by_SNR_LW_FQN(df_brain, \n",
    "                                        threshold_snr_final,\n",
    "                                        threshold_lw_final,\n",
    "                                        threshold_fqn_final,\n",
    "                                        ref_reco_template_name_brain, \n",
    "                                        ref_fit_tool_name, \n",
    "                                        ref_fit_ws_metabolites_len, \n",
    "                                        ref_fit_ws_sequence_str)\n"
   ]
  },
  {
   "cell_type": "markdown",
   "metadata": {},
   "source": [
    "# [FIG] SNR & LW & FQN scatter plot"
   ]
  },
  {
   "cell_type": "code",
   "execution_count": null,
   "metadata": {},
   "outputs": [],
   "source": [
    "df = df_sc_all_reco.loc[(df_sc_all_reco.index.get_level_values(\"reco_template_name\") == \"sc\") &\n",
    "                        (df_sc_all_reco[\"fit_tool_name\"] == \"pastis\") &\n",
    "                        (df_sc_all_reco[\"fit_ws_metabolites_len\"] == 17) &\n",
    "                        (df_sc_all_reco[\"fit_ws_sequence_str\"] == \"none\")].drop_duplicates(\"patient_pass_id\")\n",
    "\n",
    "print(\"There is %d datasets included\" % len(df.loc[df[\"included\"]]))\n",
    "print(\"There is %d datasets excluded\" % len(df.loc[~df[\"included\"]]))\n",
    "print(\"Datasets rejected (%%) = %.2f\" % (len(df.loc[~df[\"included\"]]) / len(df) * 100))\n",
    "\n",
    "print(\"--- Included datasets ---\")\n",
    "print(\"Mean SNR = %.2f (%.2f)\" % (df.loc[df[\"included\"]][\"snr_final\"].mean(),\n",
    "                                    df.loc[df[\"included\"]][\"snr_final\"].std()))\n",
    "print(\"Mean FWHM = %.2f Hz (%.2f)\" % (df.loc[df[\"included\"]][\"lw_final\"].mean(),\n",
    "                                        df.loc[df[\"included\"]][\"lw_final\"].std()))\n",
    "print(\"Mean FQN = %.2f (%.2f)\" % (df.loc[df[\"included\"]][\"fit_ws_optim_results_fqn\"].mean(), \n",
    "                                    df.loc[df[\"included\"]][\"fit_ws_optim_results_fqn\"].std()))\n"
   ]
  },
  {
   "cell_type": "code",
   "execution_count": null,
   "metadata": {
    "ExecuteTime": {
     "end_time": "2020-12-08T13:48:50.249452Z",
     "start_time": "2020-12-08T13:48:42.340889Z"
    }
   },
   "outputs": [],
   "source": [
    "this_df = df\n",
    "\n",
    "# making an empty col for Included/Excluded\n",
    "this_df[\" \"] = \"Included\"\n",
    "this_df.loc[~this_df[\"included\"], \" \"] = \"Excluded\"\n",
    "\n",
    "# add best brain dataset\n",
    "this_df_brain = df_brain.loc[(df_brain.index.get_level_values(\"reco_template_name\") == \"brain\") &\n",
    "                        (df_brain[\"fit_tool_name\"] == \"pastis\") &\n",
    "                        (df_brain[\"fit_ws_metabolites_len\"] == 17) &\n",
    "                        (df_brain[\"fit_ws_sequence_str\"] == \"none\")].drop_duplicates(\"patient_pass_id\")\n",
    "this_df_brain = this_df_brain.loc[ (this_df_brain[\"snr_final\"] == this_df_brain[\"snr_final\"].max())]\n",
    "\n",
    "this_df_brain = this_df_brain.drop_duplicates(\"patient_pass_id\")\n",
    "this_df_brain[\" \"] = \"Included\"\n",
    "\n",
    "# concat and rename scale labels\n",
    "this_df = pd.concat([this_df, this_df_brain])\n",
    "this_df = this_df.rename(columns = {'snr_final':'SNR (u.a)'})\n",
    "this_df = this_df.rename(columns = {'lw_final':'FWHM (Hz)'})\n",
    "this_df = this_df.rename(columns = {'fit_ws_optim_results_fqn':'FQN (u.a)'})\n",
    "\n",
    "print(\"n = %d\" % len(this_df))\n",
    "\n",
    "# broken axis scatter plot\n",
    "#cm = sns.color_palette(\"rocket_r\", as_cmap=True)\n",
    "f, (ax_top, ax_bottom) = plt.subplots(ncols=1, nrows=2, sharex=True,\n",
    "                                      gridspec_kw={'hspace':0.10, 'height_ratios':[1, 10]})\n",
    "g = sns.scatterplot(x=\"FWHM (Hz)\", y=\"SNR (u.a)\",\n",
    "                color=\"black\", #hue=\"FQN (u.a)\"\n",
    "                style=\" \", style_order=[\"Included\", \"Excluded\"],\n",
    "                s=150, data=this_df, ax=ax_top, legend=False)\n",
    "\n",
    "ax_top.grid(True)\n",
    "ax_top.axhline(threshold_snr_final, color='r', linestyle='--')\n",
    "ax_top.axvline(threshold_lw_final, color='r', linestyle='--')\n",
    "\n",
    "this_df_labels = this_df.loc[(this_df[\"SNR (u.a)\"] > 50)]\n",
    "this_df_labels = this_df_labels.drop_duplicates(\"patient_pass_id\")\n",
    "add_labels(\"FWHM (Hz)\", \"SNR (u.a)\", \"patient_pass_id_pretty\", this_df_labels, ax_top, 8, 0.5, 0.0)\n",
    "\n",
    "g = sns.scatterplot(x=\"FWHM (Hz)\", y=\"SNR (u.a)\",\n",
    "                color=\"black\", #hue=\"FQN (u.a)\"\n",
    "                style=\" \", style_order=[\"Included\", \"Excluded\"],\n",
    "                s=150, data=this_df, ax=ax_bottom)\n",
    "ax_bottom.grid(True)\n",
    "ax_bottom.axhline(threshold_snr_final, color='r', linestyle='--')\n",
    "ax_bottom.axvline(threshold_lw_final, color='r', linestyle='--')\n",
    "\n",
    "this_df_labels = this_df.loc[(this_df[\"SNR (u.a)\"] < 50)]\n",
    "this_df_labels = this_df_labels.drop_duplicates(\"patient_pass_id\")\n",
    "add_labels(\"FWHM (Hz)\", \"SNR (u.a)\", \"patient_pass_id_pretty\", this_df_labels, ax_bottom, 8, 0.5, 0.0)\n",
    "\n",
    "ax_top.set_ylim([90, 110])\n",
    "ax_top.set_ylabel(\"\")\n",
    "ax_bottom.set_ylim(4, 20)\n",
    "sns.despine(ax=ax_bottom)\n",
    "sns.despine(ax=ax_top, bottom=True)\n",
    "\n",
    "# draw the small break sign\n",
    "ax = ax_top\n",
    "d = .01\n",
    "kwargs = dict(transform=ax.transAxes, color='k', clip_on=False)\n",
    "ax.plot((-d, +d), (-d*10, +d*10), **kwargs)\n",
    "ax2 = ax_bottom\n",
    "kwargs.update(transform=ax2.transAxes)\n",
    "ax2.plot((-d, +d), (1 - d, 1 + d), **kwargs)\n",
    "\n",
    "plt.savefig(\"./notebooks/figs/fig_snr_lw.svg\")\n",
    "\n",
    "this_df[[\"patient_pass_id\", \"included\"]]"
   ]
  },
  {
   "cell_type": "markdown",
   "metadata": {},
   "source": [
    "# Stats: data acquisition, quality\n",
    "## Height & Weight & BMI"
   ]
  },
  {
   "cell_type": "code",
   "execution_count": null,
   "metadata": {
    "ExecuteTime": {
     "end_time": "2020-12-08T13:49:11.829872Z",
     "start_time": "2020-12-08T13:49:11.683734Z"
    },
    "scrolled": false
   },
   "outputs": [],
   "source": [
    "print(\"--- before filtering ---\")\n",
    "df = df_sc_all_reco.loc[(df_sc_all_reco[\"pass\"] == 1)].drop_duplicates(\"patient_id\")\n",
    "\n",
    "print(\"n = %d\" % len(df))\n",
    "\n",
    "print(\"Mean weight = %.2fkgs +/-%.2f\" % (df[\"patient_weight\"].mean(), df[\"patient_weight\"].std()))\n",
    "print(\"Mean height = %.2fm +/-%.2f\" % (df[\"patient_height\"].mean(), df[\"patient_height\"].std()))\n",
    "print(\"Mean BMI = %.2f +/-%.2f\" % (df[\"patient_bmi\"].mean(), df[\"patient_bmi\"].std()))\n",
    "\n",
    "sex_counts = df.groupby(\"patient_sex\")\n",
    "print(\"Sex = M(%d) F(%d)\" % (df.loc[sex_counts.groups[\"M\"]][\"patient_id\"].nunique(), \n",
    "                             df.loc[sex_counts.groups[\"F\"]][\"patient_id\"].nunique()))"
   ]
  },
  {
   "cell_type": "code",
   "execution_count": null,
   "metadata": {
    "ExecuteTime": {
     "end_time": "2020-12-08T13:49:11.829872Z",
     "start_time": "2020-12-08T13:49:11.683734Z"
    },
    "scrolled": false
   },
   "outputs": [],
   "source": [
    "print(\"--- after filtering ---\")\n",
    "df = df_sc_all_reco.loc[(df_sc_all_reco[\"pass\"] == 1) &\n",
    "                        (df_sc_all_reco[\"included\"] == True)].drop_duplicates(\"patient_id\")\n",
    "\n",
    "print(\"n = %d\" % len(df))\n",
    "\n",
    "print(\"Mean weight = %.2fkgs +/-%.2f\" % (df[\"patient_weight\"].mean(), df[\"patient_weight\"].std()))\n",
    "print(\"Mean height = %.2fm +/-%.2f\" % (df[\"patient_height\"].mean(), df[\"patient_height\"].std()))\n",
    "print(\"Mean BMI = %.2f +/-%.2f\" % (df[\"patient_bmi\"].mean(), df[\"patient_bmi\"].std()))\n",
    "\n",
    "sex_counts = df.groupby(\"patient_sex\")\n",
    "print(\"Sex = M(%d) F(%d)\" % (df.loc[sex_counts.groups[\"M\"]][\"patient_id\"].nunique(), \n",
    "                             df.loc[sex_counts.groups[\"F\"]][\"patient_id\"].nunique()))"
   ]
  },
  {
   "cell_type": "markdown",
   "metadata": {},
   "source": [
    "## Average voxel size"
   ]
  },
  {
   "cell_type": "code",
   "execution_count": null,
   "metadata": {},
   "outputs": [],
   "source": [
    "df = df_sc_all_reco.drop_duplicates([\"patient_pass_id\"])\n",
    "\n",
    "print(\"n = %d\" % len(df))\n",
    "\n",
    "print(\"* Voxel volume (cm3) = %.2f (%.2f)\" % (df[\"voxel_vol_cm3\"].mean(), \n",
    "                                              df[\"voxel_vol_cm3\"].std()))\n",
    "\n",
    "print(\"* Voxel X dimension (mm) = %.2f (%.2f)\" % (df[\"voxel_vol_cm3\"].mean(), \n",
    "                                              df[\"voxel_vol_cm3\"].std()))\n",
    "print(\"* Voxel Y dimension (mm) = %.2f (%.2f)\" % (df[\"voxel_vol_cm3\"].mean(), \n",
    "                                              df[\"voxel_vol_cm3\"].std()))\n",
    "print(\"* Voxel Z dimension (mm) = %.2f (%.2f)\" % (df[\"voxel_vol_cm3\"].mean(), \n",
    "                                              df[\"voxel_vol_cm3\"].std()))"
   ]
  },
  {
   "cell_type": "code",
   "execution_count": null,
   "metadata": {},
   "outputs": [],
   "source": [
    "df[\"voxel_size_x_mm\"]"
   ]
  },
  {
   "cell_type": "code",
   "execution_count": null,
   "metadata": {},
   "outputs": [],
   "source": [
    "df[\"voxel_size_y_mm\"]"
   ]
  },
  {
   "cell_type": "code",
   "execution_count": null,
   "metadata": {},
   "outputs": [],
   "source": [
    "df[\"voxel_size_z_mm\"]"
   ]
  },
  {
   "cell_type": "markdown",
   "metadata": {},
   "source": [
    "## CSDE\n",
    "Chemical shift displacement errors?"
   ]
  },
  {
   "cell_type": "code",
   "execution_count": null,
   "metadata": {},
   "outputs": [],
   "source": [
    "print(\"n = %d\" % len(df))\n",
    "\n",
    "print(\"* X dimension (%%/ppm) = %.2f\" % df[\"csde_x\"].mean())\n",
    "print(\"* Y dimension (%%/ppm) = %.2f\" % df[\"csde_y\"].mean())\n",
    "print(\"* Z dimension (%%/ppm) = %.2f\" % df[\"csde_z\"].mean())\n",
    "\n",
    "print(\"* For protocol(i)?\")\n",
    "print(\"* X dimension (%%/ppm) = %.2f\" % df.loc[df[\"reco_dataset_raw_data_sequence_pulse_rfc_r\"] >=20][\"csde_x\"].mean())\n",
    "print(\"* Y dimension (%%/ppm) = %.2f\" % df.loc[df[\"reco_dataset_raw_data_sequence_pulse_rfc_r\"] >=20][\"csde_y\"].mean())\n",
    "print(\"* Z dimension (%%/ppm) = %.2f\" % df.loc[df[\"reco_dataset_raw_data_sequence_pulse_rfc_r\"] >=20][\"csde_z\"].mean())\n",
    "\n",
    "print(\"* For protocol(ii)?\")\n",
    "print(\"* X dimension (%%/ppm) = %.2f\" % df.loc[df[\"reco_dataset_raw_data_sequence_pulse_rfc_r\"] <20][\"csde_x\"].mean())\n",
    "print(\"* Y dimension (%%/ppm) = %.2f\" % df.loc[df[\"reco_dataset_raw_data_sequence_pulse_rfc_r\"] <20][\"csde_y\"].mean())\n",
    "print(\"* Z dimension (%%/ppm) = %.2f\" % df.loc[df[\"reco_dataset_raw_data_sequence_pulse_rfc_r\"] <20][\"csde_z\"].mean())\n",
    "\n",
    "df[\"csde_x\"]"
   ]
  },
  {
   "cell_type": "code",
   "execution_count": null,
   "metadata": {},
   "outputs": [],
   "source": [
    "df[\"csde_y\"]"
   ]
  },
  {
   "cell_type": "code",
   "execution_count": null,
   "metadata": {},
   "outputs": [],
   "source": [
    "df[\"csde_z\"]"
   ]
  },
  {
   "cell_type": "markdown",
   "metadata": {},
   "source": [
    "## Average TE"
   ]
  },
  {
   "cell_type": "code",
   "execution_count": null,
   "metadata": {},
   "outputs": [],
   "source": [
    "print(\"n = %d\" % len(df))\n",
    "\n",
    "print(\"* TE (ms) = %.2f (%.2f) [%.2f - %.2f]\" % (df[\"reco_dataset_raw_data_sequence_te\"].mean(), \n",
    "                                                 df[\"reco_dataset_raw_data_sequence_te\"].std(), \n",
    "                                                 df[\"reco_dataset_raw_data_sequence_te\"].min(), \n",
    "                                                 df[\"reco_dataset_raw_data_sequence_te\"].max()))\n",
    "\n",
    "print(\"* For protocol(i)?\")\n",
    "print(\"* TE (ms) = %.2f (%.2f) [%.2f - %.2f]\" % (df.loc[df[\"reco_dataset_raw_data_sequence_pulse_rfc_r\"] >=20][\"reco_dataset_raw_data_sequence_te\"].mean(),\n",
    "                                                 df.loc[df[\"reco_dataset_raw_data_sequence_pulse_rfc_r\"] >=20][\"reco_dataset_raw_data_sequence_te\"].std(),\n",
    "                                                 df.loc[df[\"reco_dataset_raw_data_sequence_pulse_rfc_r\"] >=20][\"reco_dataset_raw_data_sequence_te\"].min(),\n",
    "                                                 df.loc[df[\"reco_dataset_raw_data_sequence_pulse_rfc_r\"] >=20][\"reco_dataset_raw_data_sequence_te\"].max()))\n",
    "\n",
    "print(\"* For protocol(ii)?\")\n",
    "print(\"* TE (ms) = %.2f (%.2f) [%.2f - %.2f]\" % (df.loc[df[\"reco_dataset_raw_data_sequence_pulse_rfc_r\"] <20][\"reco_dataset_raw_data_sequence_te\"].mean(),\n",
    "                                                df.loc[df[\"reco_dataset_raw_data_sequence_pulse_rfc_r\"] <20][\"reco_dataset_raw_data_sequence_te\"].std(),\n",
    "                                                df.loc[df[\"reco_dataset_raw_data_sequence_pulse_rfc_r\"] <20][\"reco_dataset_raw_data_sequence_te\"].min(),\n",
    "                                                df.loc[df[\"reco_dataset_raw_data_sequence_pulse_rfc_r\"] <20][\"reco_dataset_raw_data_sequence_te\"].max()))\n"
   ]
  },
  {
   "cell_type": "markdown",
   "metadata": {},
   "source": [
    "## Min and average TR"
   ]
  },
  {
   "cell_type": "code",
   "execution_count": null,
   "metadata": {},
   "outputs": [],
   "source": [
    "print(\"n = %d\" % len(df))\n",
    "\n",
    "print(\"* Min TR (ms) = %.2f\" % df[\"reco_dataset_raw_data_sequence_tr\"].mean())\n",
    "\n",
    "print(\"* For protocol(i)?\")\n",
    "print(\"* Min TR (ms) = %.2f\" % df.loc[df[\"reco_dataset_raw_data_sequence_pulse_rfc_r\"] >=20][\"reco_dataset_raw_data_sequence_tr\"].mean())\n",
    "\n",
    "print(\"* For protocol(ii)?\")\n",
    "print(\"* Min TR (ms) = %.2f\" % df.loc[df[\"reco_dataset_raw_data_sequence_pulse_rfc_r\"] <20][\"reco_dataset_raw_data_sequence_tr\"].mean())\n",
    "\n",
    "\n",
    "print(\"* Eff TR (s) = %.2f\" % (df[\"acqtime_eff\"] / df[\"reco_dataset_raw_data_sequence_na\"]).mean())\n"
   ]
  },
  {
   "cell_type": "markdown",
   "metadata": {},
   "source": [
    "## Acquisition time"
   ]
  },
  {
   "cell_type": "code",
   "execution_count": null,
   "metadata": {},
   "outputs": [],
   "source": [
    "print(\"n = %d\" % len(df))\n",
    "\n",
    "print(\"* Acquisition time (min) = %.2f\" % (df[\"acqtime\"].mean() / 60))\n",
    "print(\"* Eff acquisition time (min) = %.2f\" % (df[\"acqtime_eff\"].mean() / 60))"
   ]
  },
  {
   "cell_type": "markdown",
   "metadata": {},
   "source": [
    "## Data discardment\n",
    "### Average rejection rate"
   ]
  },
  {
   "cell_type": "code",
   "execution_count": null,
   "metadata": {
    "scrolled": true
   },
   "outputs": [],
   "source": [
    "df = df_sc_all_reco.loc[(df_sc_all_reco.index.get_level_values(\"reco_template_name\") == \"sc\")].drop_duplicates([\"patient_pass_id\"])\n",
    "\n",
    "print(\"n = %d\" % len(df))\n",
    "print(\"* Data rejected (%%) = %.2f\" % df[\"rejection_rate_prct\"].mean())"
   ]
  },
  {
   "cell_type": "markdown",
   "metadata": {},
   "source": [
    "### Rejection method used the most"
   ]
  },
  {
   "cell_type": "code",
   "execution_count": null,
   "metadata": {},
   "outputs": [],
   "source": [
    "plt.figure()\n",
    "df[\"rejection_method\"] = df[\"rejection_method\"].astype(str)\n",
    "df.groupby(\"rejection_method\")[\"patient_pass_id\"].nunique().plot.pie(autopct=\"%.1f%%\")"
   ]
  },
  {
   "cell_type": "markdown",
   "metadata": {},
   "source": [
    "### Gain in SNR/LW\n",
    "#### Compare sc_nodatarej vs. sc_nodatarej_norea"
   ]
  },
  {
   "cell_type": "code",
   "execution_count": null,
   "metadata": {
    "run_control": {
     "marked": false
    }
   },
   "outputs": [],
   "source": [
    "df = df_sc_all_reco.loc[df_sc_all_reco.index.get_level_values(\"reco_template_name\").isin([\"sc_nodatarej_norea\", \"sc_nodatarej\"])]\n",
    "df = df.reset_index().drop_duplicates([\"patient_pass_id\", \"reco_template_name\"])\n",
    "\n",
    "df = df.reset_index().sort_values(by=[\"data_hash\", \"reco_template_name\"], ascending=False)\n",
    "\n",
    "df[\"snr_rel_diff\"] = df.groupby([\"data_hash\"])[\"snr_final\"].pct_change().fillna(0) * 100.0\n",
    "df[\"lw_diff\"] = df.groupby([\"data_hash\"])[\"lw_final\"].diff().fillna(0)\n",
    "\n",
    "print(\"--- sc_nodatarej vs. sc_nodatarej_norea ---\")\n",
    "print(\"n = %d\" % len(df))\n",
    "print(\"* SNR gain (%%) = %.2f\" % (df.loc[df[\"reco_template_name\"] == \"sc_nodatarej\"][\"snr_rel_diff\"].mean()))\n",
    "print(\"* FWHM gain (Hz) = %.2f\" % (df.loc[df[\"reco_template_name\"] == \"sc_nodatarej\"][\"lw_diff\"].mean()))\n",
    "\n",
    "df[[\"data_hash\", \"reco_template_name\", \"patient_pass_id\", \"snr_final\", \"lw_final\", \"snr_rel_diff\", \"lw_diff\"]]"
   ]
  },
  {
   "cell_type": "markdown",
   "metadata": {},
   "source": [
    "#### Compare sc vs. sc_nodatarej_norea"
   ]
  },
  {
   "cell_type": "code",
   "execution_count": null,
   "metadata": {
    "run_control": {
     "marked": false
    }
   },
   "outputs": [],
   "source": [
    "df = df_sc_all_reco.loc[df_sc_all_reco.index.get_level_values(\"reco_template_name\").isin([\"sc_nodatarej_norea\", \"sc\"])]\n",
    "df = df.reset_index().drop_duplicates([\"patient_pass_id\", \"reco_template_name\"])\n",
    "\n",
    "df = df.reset_index().sort_values(by=[\"data_hash\", \"reco_template_name\"], ascending=False)\n",
    "\n",
    "df[\"snr_rel_diff\"] = df.groupby([\"data_hash\"])[\"snr_final\"].pct_change().fillna(0) * 100.0\n",
    "df[\"lw_diff\"] = df.groupby([\"data_hash\"])[\"lw_final\"].diff().fillna(0)\n",
    "\n",
    "print(\"--- sc vs. sc_nodatarej_norea ---\")\n",
    "print(\"n = %d\" % len(df))\n",
    "print(\"* SNR gain (%%) = %.2f\" % (df.loc[df[\"reco_template_name\"] == \"sc\"][\"snr_rel_diff\"].mean()))\n",
    "print(\"* FWHM gain (Hz) = %.2f\" % (df.loc[df[\"reco_template_name\"] == \"sc\"][\"lw_diff\"].mean()))\n",
    "\n",
    "df[[\"data_hash\", \"reco_template_name\", \"patient_pass_id\", \"snr_final\", \"lw_final\", \"snr_rel_diff\", \"lw_diff\"]]"
   ]
  },
  {
   "cell_type": "markdown",
   "metadata": {
    "run_control": {
     "marked": false
    }
   },
   "source": [
    "* Frequency realignment is really benefic: +2%SNR but surtout -6Hz LW\n",
    "* Data discardment performance is really not observable in terms of SNR/LW: just a little better LW but actually a loss in SNR..."
   ]
  },
  {
   "cell_type": "markdown",
   "metadata": {},
   "source": [
    "# Investigating rejected datasets:"
   ]
  },
  {
   "cell_type": "markdown",
   "metadata": {},
   "source": [
    "## [FIG] Normalized SNR vs. BMI"
   ]
  },
  {
   "cell_type": "code",
   "execution_count": null,
   "metadata": {},
   "outputs": [],
   "source": [
    "df = df_sc_all_reco.loc[(df_sc_all_reco.index.get_level_values(\"reco_template_name\") == \"sc\")].drop_duplicates(\"patient_pass_id\")\n",
    "\n",
    "this_df = df\n",
    "this_df = this_df.rename(columns = {'snr_final_norm':'Normalized SNR (u.a)'})\n",
    "this_df = this_df.rename(columns = {'patient_bmi':'Subject BMI'})\n",
    "x = this_df[\"Subject BMI\"]\n",
    "y = this_df[\"Normalized SNR (u.a)\"]\n",
    "\n",
    "plt.figure()\n",
    "g = sns.scatterplot(x=\"Subject BMI\", y=\"Normalized SNR (u.a)\",\n",
    "                hue=\"voxel_pos_y_mm\", cmap=cm,\n",
    "                style=\"included\", style_order=[True, False],\n",
    "                s=150, data=this_df)\n",
    "\n",
    "plt.grid(True)\n",
    "\n",
    "norm = plt.Normalize(this_df['voxel_pos_y_mm'].min(), this_df['voxel_pos_y_mm'].max())\n",
    "sm = plt.cm.ScalarMappable(cmap=cm, norm=norm)\n",
    "sm.set_array([])\n",
    "\n",
    "# Remove the legend and add a colorbar\n",
    "g.get_legend().remove()\n",
    "cb = g.figure.colorbar(sm)\n",
    "cb.set_label(label='Y voxel position (mm)')\n",
    "\n",
    "plt.show()\n",
    "\n",
    "m, b = np.polyfit(x, y, 1)\n",
    "plt.plot(x, m*x+b, color='k', linewidth=1)\n",
    "\n",
    "print(\"R = %.2f\" % x.corr(y))\n",
    "\n",
    "plt.xlabel(\"Subject BMI (kg/m²)\")\n",
    "\n",
    "plt.savefig(\"./notebooks/figs/fig_snr_bmi.svg\")"
   ]
  },
  {
   "cell_type": "markdown",
   "metadata": {},
   "source": [
    "## 5ppm artefact?"
   ]
  },
  {
   "cell_type": "code",
   "execution_count": null,
   "metadata": {
    "scrolled": false
   },
   "outputs": [],
   "source": [
    "plt.figure()\n",
    "g = sns.boxplot(x=\"included\", y=\"artefact_signal_norm\", data=df)\n",
    "plt.grid('on')"
   ]
  },
  {
   "cell_type": "markdown",
   "metadata": {},
   "source": [
    "Clearly, rejected datasets show a stronger 5ppm artefact level in average... It is one of the reasons yes. "
   ]
  },
  {
   "cell_type": "markdown",
   "metadata": {},
   "source": [
    "# [FIG] Spectra gallery"
   ]
  },
  {
   "cell_type": "code",
   "execution_count": null,
   "metadata": {
    "ExecuteTime": {
     "end_time": "2020-12-08T13:49:37.001450Z",
     "start_time": "2020-12-08T13:49:36.300018Z"
    }
   },
   "outputs": [],
   "source": [
    "this_df = df_sc_all_reco.loc[(df_sc_all_reco.index.get_level_values(\"reco_template_name\") == \"sc\") &\n",
    "                        (df_sc_all_reco[\"fit_tool_name\"] == \"pastis\") &\n",
    "                        (df_sc_all_reco[\"fit_ws_metabolites_len\"] == 17) &\n",
    "                        (df_sc_all_reco[\"fit_ws_sequence_str\"] == \"none\")].drop_duplicates(\"patient_pass_id\")\n",
    "\n",
    "this_df = this_df.loc[this_df[\"patient_pass_id\"].isin([\"338_P1\", \"314_P2\", \"311_P1\", \"300_P2\"])]\n",
    "\n",
    "# add best brain dataset\n",
    "this_df_brain = df_brain.loc[(df_brain.index.get_level_values(\"reco_template_name\") == \"brain\") &\n",
    "                        (df_brain[\"fit_tool_name\"] == \"pastis\") &\n",
    "                        (df_brain[\"fit_ws_metabolites_len\"] == 17) &\n",
    "                        (df_brain[\"fit_ws_sequence_str\"] == \"none\")].drop_duplicates(\"patient_pass_id\")\n",
    "\n",
    "this_df_brain = this_df_brain.loc[ (this_df_brain[\"snr_final\"] == this_df_brain[\"snr_final\"].max())]\n",
    "\n",
    "# concat\n",
    "this_df = pd.concat([this_df, this_df_brain])\n",
    "this_df = this_df.sort_values(by=\"snr_final\")\n",
    "\n",
    "# add SNR to the label\n",
    "this_df[\"spectra_gllr_lbl\"] = [\"%s (%.1f)\" % (s1.replace(\" (P1)\", \"\").replace(\" (P2)\", \"\"), s2) for (s1, s2) in zip(this_df[\"patient_pass_id_pretty\"], this_df[\"snr_final\"])]\n",
    "\n",
    "k = 0\n",
    "label_x = 1.9 #ppm\n",
    "for this_index, this_row in this_df.iterrows():\n",
    "    s = this_row[\"data_obj\"]\n",
    "    \n",
    "    s.set_display_offset(10000.0 * k)\n",
    "    fig = s.display_spectrum_1d(1000)\n",
    "    \n",
    "    # add some x/y for annotation\n",
    "    this_df.at[this_index, \"spectrum_label_x\"] = label_x\n",
    "    this_df.at[this_index, \"spectrum_label_y\"] = 10000.0 * k\n",
    "    \n",
    "    # line color\n",
    "    if(this_row[\"included\"]):\n",
    "        fig.axes[0].get_lines()[-1].set_color('black')\n",
    "    else:\n",
    "        fig.axes[0].get_lines()[-1].set_color('grey')\n",
    "        \n",
    "    # iterate\n",
    "    k += 1\n",
    "\n",
    "add_labels(\"spectrum_label_x\", \"spectrum_label_y\", \"spectra_gllr_lbl\", this_df, plt.gca(),  9, 0, 3500)\n",
    "\n",
    "ax = fig.axes\n",
    "ax[0].set(yticklabels=[])\n",
    "ax[0].get_legend().remove()\n",
    "plt.ylabel(\"\")\n",
    "  \n",
    "plt.xlim([5, 1])\n",
    "yts = plt.yticks()\n",
    "plt.yticks(yts[0][0:-4])\n",
    "plt.ylim([-5000, 75000])\n",
    "\n",
    "# add metabolites labels\n",
    "yo = 10000\n",
    "plt.text(2, 60000 + yo, \"tNAA\")\n",
    "plt.text(2.5, 35000 + yo, \"Glx\")\n",
    "plt.text(2.85, 33000 + yo, \"NAA\")\n",
    "plt.text(3, 50000 + yo, \"tCr\")\n",
    "plt.text(3.55, 45000 + yo, \"tCho\")\n",
    "plt.text(3.52, 34000 + yo, \"Tau\")\n",
    "plt.text(4.15, 45000 + yo, \"tCr\")\n",
    "plt.text(4.25, 35000 + yo, \"mI\")\n",
    "plt.text(3.65, 38000 + yo, \"mI\")\n",
    "plt.text(3.9, 38000 + yo, \"Glu\")\n"
   ]
  },
  {
   "cell_type": "code",
   "execution_count": null,
   "metadata": {
    "scrolled": false
   },
   "outputs": [],
   "source": [
    "# get previous fig and paste it here\n",
    "new_fig = plt.figure(figsize=(13,6))\n",
    "new_fig.subplots_adjust(wspace=0.01, hspace=0.01)\n",
    "\n",
    "fig = plt.figure(1000)\n",
    "ax_previous_fig = fig.axes[0]\n",
    "\n",
    "ax_previous_fig.figure=new_fig\n",
    "new_fig.axes.append(ax_previous_fig)\n",
    "new_fig.add_axes(ax_previous_fig)\n",
    "\n",
    "dummy = new_fig.add_subplot(1,3,(1,2))\n",
    "ax_previous_fig.set_position(dummy.get_position())\n",
    "dummy.remove()\n",
    "\n",
    "xlim = ax_previous_fig.get_xlim()\n",
    "ylim = ax_previous_fig.get_ylim()\n",
    "ax_previous_fig.text(xlim[0] - (xlim[0]-xlim[1])*0.02, \n",
    "                     ylim[0] + (ylim[1]-ylim[0])*0.02, \n",
    "                    \"A.\",\n",
    "                    fontsize=12)\n",
    "\n",
    "# add a nice anatomy for spinal cord\n",
    "t2w = suspect.image.load_dicom_volume(\"/home/tangir/crmbm/acq/314-yt-p2-moelle/20200625/01_0005_t2-tse-sag-2d-10sl-p2-trig-s4-nd/original-primary-m-norm-nd_e01_0001.dcm\")\n",
    "\n",
    "ind_patient = 2\n",
    "this_df_nice_subject = this_df.loc[this_df[\"patient_pass_id\"] == \"314_P2\"]\n",
    "pcg = this_df_nice_subject[\"data_obj\"].iloc[0]\n",
    "print(this_df_nice_subject[\"patient_pass_id\"].iloc[0])\n",
    "print(this_df_nice_subject[\"patient_id_pretty\"].iloc[0])\n",
    "\n",
    "pcg_centre = pcg.to_scanner(0, 0, 0)\n",
    "pcg_centre_index = t2w.from_scanner(*pcg_centre).round().astype(int)\n",
    "\n",
    "corner_coords_pcg = [[0, -0.4, -1],\n",
    "                     [0, -0.4, 1],\n",
    "                     [0, 0.4, 1],\n",
    "                     [0, 0.4, -1],\n",
    "                     [0, -0.4, -1]]\n",
    "corner_coords = np.array([t2w.from_scanner(*pcg.to_scanner(*coord)) for coord in corner_coords_pcg])\n",
    "\n",
    "\n",
    "ax = new_fig.add_subplot(2,2,4)\n",
    "ax.imshow(t2w[pcg_centre_index[2]], cmap=plt.cm.gray)\n",
    "ax.plot(corner_coords[:, 0], corner_coords[:, 1], 'red')\n",
    "ax.set_xticks([])\n",
    "ax.set_yticks([])\n",
    "new_fig.subplots_adjust(wspace=0.1, hspace=0.01)\n",
    "\n",
    "xlim = ax.get_xlim()\n",
    "ylim = ax.get_ylim()\n",
    "ax.text(xlim[0] - (xlim[0]-xlim[1])*0.03, \n",
    "        ylim[0] + (ylim[1]-ylim[0])*0.06, \n",
    "        \"C.\",\n",
    "        fontsize=12, color=\"white\")"
   ]
  },
  {
   "cell_type": "code",
   "execution_count": null,
   "metadata": {},
   "outputs": [],
   "source": [
    "# add a nice anatomy for brain\n",
    "\n",
    "t1w = suspect.image.load_dicom_volume(\"/home/tangir/crmbm/acq/347-re-p1-moelle/20200123/01_0009_mp2rage-wip900-sag-0-6iso-p3-uni-den/original-primary-m-nd-uni_e01_0001.dcm\")\n",
    "\n",
    "pcg = reco.MRSData2(\"/home/tangir/crmbm/acq_twix/347-re-p1-moelle/meas_MID228_slaser_R_N=10_2_longTE_SNR+++_FID50587.dat\")\n",
    "\n",
    "pcg_centre = pcg.to_scanner(0, 0, 0)\n",
    "pcg_centre_index_brain = t1w.from_scanner(*pcg_centre).round().astype(int)\n",
    "\n",
    "corner_coords_pcg = [[0, -0.75, -0.75],\n",
    "                     [0, -0.75,  0.75],\n",
    "                     [0, 0.75, 0.75],\n",
    "                     [0, 0.75, -0.75],\n",
    "                     [0, -0.75, -0.75]]\n",
    "corner_coords = np.array([t1w.from_scanner(*pcg.to_scanner(*coord)) for coord in corner_coords_pcg])\n",
    "\n",
    "ax = new_fig.add_subplot(2,2,2)\n",
    "img_tmp = t1w[:, pcg_centre_index_brain[1], :].T\n",
    "img_tmp = np.concatenate((np.zeros([402, int((402-256)/2)]), img_tmp), axis=1)\n",
    "img_tmp = np.concatenate((img_tmp, np.zeros([402, int((402-256)/2)])), axis=1)\n",
    "\n",
    "ax.imshow(img_tmp, cmap=plt.cm.gray)\n",
    "ax.plot(corner_coords[:, 1]+int((402-256)/2), corner_coords[:, 0], 'red')\n",
    "ax.set_xticks([])\n",
    "ax.set_yticks([])\n",
    "new_fig.subplots_adjust(wspace=0.1, hspace=0.01)\n",
    "\n",
    "xlim = ax.get_xlim()\n",
    "ylim = ax.get_ylim()\n",
    "ax.text(xlim[0] - (xlim[0]-xlim[1])*0.03, \n",
    "        ylim[0] + (ylim[1]-ylim[0])*0.06, \n",
    "        \"B.\",\n",
    "        fontsize=12, color=\"white\")\n",
    "\n",
    "\n",
    "new_fig.savefig(\"./notebooks/figs/fig_spectra.svg\")"
   ]
  },
  {
   "cell_type": "markdown",
   "metadata": {},
   "source": [
    "# [FIG] Fit example\n",
    "with the best fit we have :)"
   ]
  },
  {
   "cell_type": "code",
   "execution_count": null,
   "metadata": {
    "scrolled": false
   },
   "outputs": [],
   "source": [
    "import mrs.fit as fit\n",
    "\n",
    "this_df = df_sc_all_reco.loc[(df_sc_all_reco.index.get_level_values(\"reco_template_name\") == \"sc\") &\n",
    "                        (df_sc_all_reco[\"fit_tool_name\"] == \"pastis\") &\n",
    "                        (df_sc_all_reco[\"fit_ws_metabolites_len\"] == 17) &\n",
    "                        (df_sc_all_reco[\"fit_ws_sequence_str\"] == \"none\")].drop_duplicates(\"patient_pass_id\")\n",
    "\n",
    "# preview\n",
    "this_df = this_df.sort_values(\"fit_ws_optim_results_rsq_f\", ascending=False).drop_duplicates(\"patient_pass_id\")\n",
    "this_df = this_df.head(5)\n",
    "\n",
    "# best\n",
    "this_df = this_df.loc[this_df[\"patient_pass_id\"].isin([\"314_P2\"])]\n",
    "\n",
    "for this_index, this_row in this_df.iterrows():\n",
    "    s_data = this_row[\"data_obj\"]\n",
    "    s_data = s_data.correct_peak_removal_1d(8, [4.5, 6], False)\n",
    "\n",
    "    # fit params\n",
    "    p_fit = this_row[\"final_fit_params_arr\"]\n",
    "\n",
    "    # PRESS seq\n",
    "    seq = sim.mrs_seq_press(s_data.sequence.te, s_data.sequence.tr, s_data.sequence.na, \n",
    "                            s_data.sequence.ds, s_data.sequence.nuclei, \n",
    "                            s_data.sequence.npts, s_data.sequence.voxel_size, \n",
    "                            s_data.sequence.fs, s_data.sequence.f0)\n",
    "    \n",
    "    seq.bandpass_filter_range_ppm = [0, 4.2]\n",
    "\n",
    "    seq.initialize()\n",
    "    fig = plt.figure()\n",
    "    ax = fig.subplots()\n",
    "    fit.disp_fit(ax, s_data, p_fit, seq, True, True, None, False, [1, 4.5])\n",
    "    print(this_row[\"patient_pass_id\"] + \" R(t/f) = %.2f/%.2f FQN = %.1f\" % (this_row[\"fit_ws_optim_results_rsq_t\"],\n",
    "                                                                            this_row[\"fit_ws_optim_results_rsq_f\"],\n",
    "                                                                            this_row[\"fit_ws_optim_results_fqn\"]))\n",
    "\n",
    "fig = plt.gcf()\n",
    "fig.savefig(\"./notebooks/figs/fig_fit.svg\")"
   ]
  },
  {
   "cell_type": "markdown",
   "metadata": {},
   "source": [
    "# P1 quantification results\n",
    "## Ratio STD: choosing best modelization sequence"
   ]
  },
  {
   "cell_type": "code",
   "execution_count": null,
   "metadata": {},
   "outputs": [],
   "source": [
    "df = df_sc_all_reco.loc[(df_sc_all_reco[\"included\"]) & \n",
    "                        (df_sc_all_reco.index.get_level_values(\"reco_template_name\") == \"sc\") & \n",
    "                        (df_sc_all_reco[\"pass\"] == 1)]\n",
    "\n",
    "# watch ratios\n",
    "this_df = df.loc[(df[\"param_p_type\"] == \"fit_ws_params_fit_t2cor_ratio_cm\") &\n",
    "                 (df[\"param_val_err\"] == \"val\") &  \n",
    "                 (df[\"param_m_name\"].isin([\"tCr\", \"tCho\", \"tNAA\", \"mI\", \"Tau\", \"Gln\", \"Glu\", \"GABA\"]))]\n",
    "\n",
    "this_df[\"param_val\"] = this_df[\"param_val\"].replace([np.inf, -np.inf], np.nan)\n",
    "this_df = this_df[this_df[\"param_val\"].notna()]\n",
    "this_df = this_df.groupby([\"param_m_name\", \"strategy\"])[\"param_val\"].std()\n",
    "\n",
    "plt.figure()\n",
    "g = sns.barplot(x=\"param_m_name\", \n",
    "                y=\"param_val\",\n",
    "                hue=\"strategy\",\n",
    "                palette = \"bright\",\n",
    "                data=this_df.reset_index())\n"
   ]
  },
  {
   "cell_type": "markdown",
   "metadata": {},
   "source": [
    "Clearly, the use of PRESS instead of sLASER for the modelization increases the variability of the results. Let's stick to sLASER (\"none\")."
   ]
  },
  {
   "cell_type": "markdown",
   "metadata": {},
   "source": [
    "## Ratio STD & CRB: choosing number of metabolites"
   ]
  },
  {
   "cell_type": "code",
   "execution_count": null,
   "metadata": {},
   "outputs": [],
   "source": [
    "df = df_sc_all_reco.loc[(df_sc_all_reco[\"included\"]) & \n",
    "                        (df_sc_all_reco.index.get_level_values(\"reco_template_name\") == \"sc\") &\n",
    "                        (df_sc_all_reco[\"fit_ws_sequence_str\"] == \"none\") & \n",
    "                        (df_sc_all_reco[\"pass\"] == 1)]\n",
    "\n",
    "# watch ratios\n",
    "this_df = df.loc[(df[\"param_p_type\"] == \"fit_ws_params_fit_t2cor_ratio_cm\") &\n",
    "                 (df[\"param_val_err\"] == \"val\") &  \n",
    "                 (df[\"param_m_name\"].isin([\"tCr\", \"tCho\", \"tNAA\", \"mI\", \"Tau\", \"Gln\", \"Glu\", \"GABA\", \"NAAG\"]))]\n",
    "\n",
    "this_df[\"param_val\"] = this_df[\"param_val\"].replace([np.inf, -np.inf], np.nan)\n",
    "this_df = this_df[this_df[\"param_val\"].notna()]\n",
    "this_df = this_df.groupby([\"param_m_name\", \"strategy\"])[\"param_val\"].std()\n",
    "\n",
    "plt.figure()\n",
    "g = sns.barplot(x=\"param_m_name\", \n",
    "                y=\"param_val\",\n",
    "                hue=\"strategy\",\n",
    "                palette = \"bright\",\n",
    "                data=this_df.reset_index())\n"
   ]
  },
  {
   "cell_type": "code",
   "execution_count": null,
   "metadata": {
    "scrolled": false
   },
   "outputs": [],
   "source": [
    "df = df_sc_all_reco.loc[(df_sc_all_reco[\"included\"]) & \n",
    "                        (df_sc_all_reco.index.get_level_values(\"reco_template_name\") == \"sc\") &\n",
    "                        (df_sc_all_reco[\"fit_ws_sequence_str\"] == \"none\") & \n",
    "                        (df_sc_all_reco[\"pass\"] == 1)]\n",
    "\n",
    "# watch ratios\n",
    "this_df = df.loc[(df[\"param_p_type\"] == \"fit_ws_params_fit_t2cor_ratio_cm\") &\n",
    "                 (df[\"param_val_err\"] == \"err_prct\") &  \n",
    "                 (df[\"param_m_name\"].isin([\"tCr\", \"tCho\", \"tNAA\", \"mI\", \"Tau\", \"Gln\", \"Glu\", \"GABA\", \"NAAG\"]))]\n",
    "\n",
    "this_df[\"param_val\"] = this_df[\"param_val\"].replace([np.inf, -np.inf], np.nan)\n",
    "this_df = this_df[this_df[\"param_val\"].notna()]\n",
    "this_df = this_df.groupby([\"param_m_name\", \"strategy\"])[\"param_val\"].mean()\n",
    "\n",
    "plt.figure()\n",
    "g = sns.barplot(x=\"param_m_name\", \n",
    "                y=\"param_val\",\n",
    "                hue=\"strategy\",\n",
    "                palette = \"bright\",\n",
    "                data=this_df.reset_index())\n",
    "\n",
    "plt.ylim([0, 100])"
   ]
  },
  {
   "cell_type": "markdown",
   "metadata": {},
   "source": [
    "15 metabolites gives the lowest STDs and CRBs !"
   ]
  },
  {
   "cell_type": "markdown",
   "metadata": {},
   "source": [
    "## Automatic adjustment of SNR/LW/FQN thresholds"
   ]
  },
  {
   "cell_type": "code",
   "execution_count": null,
   "metadata": {
    "run_control": {
     "marked": false
    },
    "scrolled": true
   },
   "outputs": [],
   "source": [
    "threshold_snr_final_list = [5, 6, 7, 8, 9, 10]\n",
    "threshold_lw_final_list = [15, 20, 25]\n",
    "threshold_fqn_final_list = [1.25, 1.5, 2]\n",
    "\n",
    "ref_reco_template_name_sc = \"sc\"\n",
    "ref_fit_tool_name = \"pastis\"\n",
    "ref_fit_ws_metabolites_len = 17\n",
    "ref_fit_ws_sequence_str = \"none\"\n",
    "\n",
    "this_df_reslist = []\n",
    "k = 0\n",
    "for this_snr in threshold_snr_final_list:\n",
    "    for this_lw in threshold_lw_final_list:\n",
    "        for this_fqn in threshold_fqn_final_list:\n",
    "\n",
    "            df_sc_all_reco = filter_by_SNR_LW_FQN(df_sc_all_reco, \n",
    "                                                    this_snr,\n",
    "                                                    this_lw,\n",
    "                                                    this_fqn,\n",
    "                                                    ref_reco_template_name_sc, \n",
    "                                                    ref_fit_tool_name, \n",
    "                                                    ref_fit_ws_metabolites_len, \n",
    "                                                    ref_fit_ws_sequence_str)\n",
    "\n",
    "            df = df_sc_all_reco.loc[(df_sc_all_reco[\"included\"]) & \n",
    "                                    (df_sc_all_reco.index.get_level_values(\"reco_template_name\") == \"sc\") &\n",
    "                                    (df_sc_all_reco[\"fit_ws_sequence_str\"] == \"none\") &\n",
    "                                    (df_sc_all_reco[\"fit_ws_metabolites_len\"] == 17) &\n",
    "                                    (df_sc_all_reco[\"fit_tool_name\"] == \"pastis\") &\n",
    "                                    (df_sc_all_reco[\"pass\"] == 1)]\n",
    "\n",
    "            # watch ratios\n",
    "            this_df = df.loc[(df[\"param_p_type\"] == \"fit_ws_params_fit_t2cor_ratio_cm\") &\n",
    "                             (df[\"param_val_err\"] == \"val\") &  \n",
    "                             (df[\"param_m_name\"].isin([\"tCr\", \"tCho\", \"tNAA\", \"mI\", \"Tau\", \"Gln\", \"Glu\", \"GABA\", \"NAAG\"]))]\n",
    "\n",
    "            this_df[\"param_val\"] = this_df[\"param_val\"].replace([np.inf, -np.inf], np.nan)\n",
    "            this_df = this_df[this_df[\"param_val\"].notna()].reset_index()\n",
    "\n",
    "            this_df = this_df.loc[(this_df[\"param_m_name\"].isin([\"tCho\", \"tNAA\", \"mI\"]))]\n",
    "            this_df_res = this_df.groupby([\"param_m_name\"])[\"param_val\"].agg([\"mean\", \"median\", \"std\"])\n",
    "            this_df_res[\"snr_threshold\"] = this_snr\n",
    "            this_df_res[\"lw_threshold\"] = this_lw\n",
    "            this_df_res[\"fqn_threshold\"] = this_fqn\n",
    "            this_df_reslist.append(this_df_res)\n",
    "\n",
    "            k += 1\n",
    "            print(\"%.2f%% done\" % (100 * k / (len(threshold_snr_final_list) * len(threshold_lw_final_list) * len(threshold_fqn_final_list))))\n"
   ]
  },
  {
   "cell_type": "code",
   "execution_count": null,
   "metadata": {
    "scrolled": false
   },
   "outputs": [],
   "source": [
    "this_df_res_concat = pd.concat(this_df_reslist).reset_index()\n",
    "this_df_res_concat = this_df_res_concat.loc[(this_df_res_concat[\"lw_threshold\"] == this_df_res_concat[\"lw_threshold\"].max())]\n",
    "\n",
    "plt.figure()\n",
    "g = sns.lineplot(x=\"snr_threshold\", y=\"std\",\n",
    "                hue=\"param_m_name\",\n",
    "                style=\"fqn_threshold\", markers=True,\n",
    "                data=this_df_res_concat)\n",
    "\n",
    "this_df_res_concat = pd.concat(this_df_reslist).reset_index()\n",
    "this_df_res_concat = this_df_res_concat.loc[(this_df_res_concat[\"fqn_threshold\"] == this_df_res_concat[\"fqn_threshold\"].max())]\n",
    "\n",
    "plt.figure()\n",
    "g = sns.lineplot(x=\"snr_threshold\", y=\"std\",\n",
    "                hue=\"param_m_name\",\n",
    "                style=\"lw_threshold\", markers=True,\n",
    "                data=this_df_res_concat)\n",
    "\n",
    "this_df_res_concat = pd.concat(this_df_reslist).reset_index()\n",
    "this_df_res_concat = this_df_res_concat.loc[(this_df_res_concat[\"snr_threshold\"] == 8)]\n",
    "\n",
    "plt.figure()\n",
    "g = sns.lineplot(x=\"fqn_threshold\", y=\"std\",\n",
    "                hue=\"param_m_name\",\n",
    "                style=\"lw_threshold\", markers=True,\n",
    "                data=this_df_res_concat)\n"
   ]
  },
  {
   "cell_type": "markdown",
   "metadata": {},
   "source": [
    "## Final stats: Mean, Median, STDs, CRBs, pastis vs. LCModel, sc vs. sc_nodatarej"
   ]
  },
  {
   "cell_type": "code",
   "execution_count": null,
   "metadata": {
    "run_control": {
     "marked": false
    }
   },
   "outputs": [],
   "source": [
    "threshold_snr_final = 5\n",
    "threshold_lw_final = 20\n",
    "threshold_fqn_final = 200\n",
    "\n",
    "ref_reco_template_name_sc = \"sc\"\n",
    "ref_fit_tool_name = \"pastis\"\n",
    "ref_fit_ws_metabolites_len = 17\n",
    "ref_fit_ws_sequence_str = \"none\"\n",
    "\n",
    "df_sc_all_reco = filter_by_SNR_LW_FQN(df_sc_all_reco, \n",
    "                                        threshold_snr_final,\n",
    "                                        threshold_lw_final,\n",
    "                                        threshold_fqn_final,\n",
    "                                        ref_reco_template_name_sc, \n",
    "                                        ref_fit_tool_name, \n",
    "                                        ref_fit_ws_metabolites_len, \n",
    "                                        ref_fit_ws_sequence_str)\n",
    "\n",
    "df = df_sc_all_reco.loc[(df_sc_all_reco[\"included\"]) & \n",
    "                        df_sc_all_reco.index.get_level_values(\"reco_template_name\").isin([\"sc\", \"sc_nodatarej\"]) &\n",
    "                        (df_sc_all_reco[\"fit_ws_sequence_str\"] == \"none\") &\n",
    "                        df_sc_all_reco[\"fit_ws_metabolites_len\"].isin([1,15]) & \n",
    "                        (df_sc_all_reco[\"pass_after_filter\"] == 1)]\n"
   ]
  },
  {
   "cell_type": "code",
   "execution_count": null,
   "metadata": {
    "run_control": {
     "marked": false
    }
   },
   "outputs": [],
   "source": [
    "# watch SDs\n",
    "this_df = df.loc[(df[\"param_p_type\"] == \"fit_ws_params_fit_t2cor_ratio_cm\") &\n",
    "                 (df[\"param_val_err\"] == \"val\") &  \n",
    "                 (df[\"param_m_name\"].isin([\"tCho\", \"tNAA\", \"mI\", \"Tau\", \"Gln\", \"Glu\"]))]\n",
    "\n",
    "this_df[\"param_val\"] = this_df[\"param_val\"].replace([np.inf, -np.inf], np.nan)\n",
    "this_df = this_df[this_df[\"param_val\"].notna()].reset_index()\n",
    "\n",
    "this_df_grp_disp = this_df.groupby([\"param_m_name\", \"strategy\"])[\"param_val\"].std()\n",
    "\n",
    "this_df.groupby([\"param_m_name\", \"strategy\"])[\"param_val\"].agg([\"mean\", \"std\"])"
   ]
  },
  {
   "cell_type": "code",
   "execution_count": null,
   "metadata": {
    "run_control": {
     "marked": false
    },
    "scrolled": false
   },
   "outputs": [],
   "source": [
    "plt.figure()\n",
    "g = sns.barplot(x=\"param_m_name\", \n",
    "                y=\"param_val\",\n",
    "                hue=\"strategy\",\n",
    "                palette = \"bright\",\n",
    "                data=this_df_grp_disp.reset_index())"
   ]
  },
  {
   "cell_type": "code",
   "execution_count": null,
   "metadata": {
    "run_control": {
     "marked": false
    }
   },
   "outputs": [],
   "source": [
    "# watch CRBs\n",
    "this_df = df.loc[(df[\"param_p_type\"] == \"fit_ws_params_fit_t2cor_ratio_cm\") &\n",
    "                 (df[\"param_val_err\"] == \"err_prct\") &  \n",
    "                 (df[\"param_m_name\"].isin([\"tCho\", \"tNAA\", \"mI\", \"Tau\", \"Gln\", \"Glu\"]))]\n",
    "\n",
    "this_df[\"param_val\"] = this_df[\"param_val\"].replace([np.inf, -np.inf], np.nan)\n",
    "this_df = this_df[this_df[\"param_val\"].notna()].reset_index()\n",
    "\n",
    "this_df_grp = this_df.groupby([\"param_m_name\", \"strategy\"])[\"param_val\"].median()\n",
    "\n",
    "this_df_grp"
   ]
  },
  {
   "cell_type": "code",
   "execution_count": null,
   "metadata": {
    "run_control": {
     "marked": false
    },
    "scrolled": false
   },
   "outputs": [],
   "source": [
    "plt.figure()\n",
    "g = sns.barplot(x=\"param_m_name\", \n",
    "                y=\"param_val\",\n",
    "                hue=\"strategy\",\n",
    "                palette = \"bright\",\n",
    "                data=this_df_grp.reset_index())\n",
    "\n",
    "plt.ylim([0, 100])"
   ]
  },
  {
   "cell_type": "markdown",
   "metadata": {},
   "source": [
    "# P1 vs. P2 quantification results"
   ]
  },
  {
   "cell_type": "code",
   "execution_count": null,
   "metadata": {
    "ExecuteTime": {
     "end_time": "2020-12-08T13:34:13.819424Z",
     "start_time": "2020-12-08T13:34:13.787448Z"
    }
   },
   "outputs": [],
   "source": [
    "threshold_snr_final = 5\n",
    "threshold_lw_final = 20\n",
    "threshold_fqn_final = 200\n",
    "\n",
    "ref_reco_template_name_sc = \"sc\"\n",
    "ref_fit_tool_name = \"pastis\"\n",
    "ref_fit_ws_metabolites_len = 17\n",
    "ref_fit_ws_sequence_str = \"none\"\n",
    "\n",
    "df_sc_all_reco = filter_by_SNR_LW_FQN(df_sc_all_reco, \n",
    "                                        threshold_snr_final,\n",
    "                                        threshold_lw_final,\n",
    "                                        threshold_fqn_final,\n",
    "                                        ref_reco_template_name_sc, \n",
    "                                        ref_fit_tool_name, \n",
    "                                        ref_fit_ws_metabolites_len, \n",
    "                                        ref_fit_ws_sequence_str)\n",
    "\n",
    "df = df_sc_all_reco.loc[(df_sc_all_reco[\"included\"]) & \n",
    "                        df_sc_all_reco.index.get_level_values(\"reco_template_name\").isin([\"sc\", \"sc_nodatarej\"]) &\n",
    "                        (df_sc_all_reco[\"fit_ws_sequence_str\"] == \"none\") &\n",
    "                        df_sc_all_reco[\"fit_ws_metabolites_len\"].isin([1,15])]\n",
    "\n",
    "# watch ratios\n",
    "this_df = df.loc[(df[\"param_p_type\"] == \"fit_ws_params_fit_t2cor_ratio_cm\") &\n",
    "                 (df[\"param_val_err\"] == \"val\") &  \n",
    "                 (df[\"param_m_name\"].isin([\"tCho\", \"tNAA\", \"mI\", \"Tau\", \"Gln\", \"Glu\"]))]\n",
    "\n",
    "# keep only patients that has P1 and P2\n",
    "# find pass 1 patients\n",
    "this_df_p1 = this_df.loc[(this_df[\"pass_after_filter\"] == 1)]\n",
    "# remember them\n",
    "patient_id_p1_list = this_df_p1[\"patient_id\"].unique().tolist()\n",
    "# find pass 2 patients which are in previously found pass 1 list\n",
    "patient_id_p1p2_list = this_df.loc[ (this_df[\"pass_after_filter\"] == 2) &\n",
    "                            this_df[\"patient_id\"].isin(patient_id_p1_list) ][\"patient_id\"].unique().tolist()\n",
    "# select those p1p2 patients\n",
    "this_df_p1p2 = this_df.loc[ this_df[\"patient_id\"].isin(patient_id_p1p2_list) ]\n",
    "\n",
    "this_df_p1p2[\"param_val\"] = this_df_p1p2[\"param_val\"].replace([np.inf, -np.inf], np.nan)\n",
    "this_df_p1p2 = this_df_p1p2[this_df_p1p2[\"param_val\"].notna()]\n",
    "this_df_p1p2[[\"patient_id\", \"pass_after_filter\", 'param_val']]\n",
    "this_df_p1p2_grp = this_df_p1p2.groupby([\"param_m_name\", \"strategy\", \"patient_id\"])[\"param_val\"].std() / this_df_p1p2.groupby([\"param_m_name\", \"strategy\", \"patient_id\"])[\"param_val\"].mean() * 100.0\n",
    "this_df_p1p2_grp.groupby([\"param_m_name\", \"strategy\"]).mean()"
   ]
  },
  {
   "cell_type": "code",
   "execution_count": null,
   "metadata": {
    "ExecuteTime": {
     "end_time": "2020-12-08T13:34:13.819424Z",
     "start_time": "2020-12-08T13:34:13.787448Z"
    },
    "scrolled": false
   },
   "outputs": [],
   "source": [
    "plt.figure()\n",
    "g = sns.barplot(x=\"param_m_name\", \n",
    "                y=\"param_val\",\n",
    "                hue=\"strategy\",\n",
    "                palette = \"bright\",\n",
    "                data=this_df_p1p2_grp.reset_index())\n",
    "\n",
    "plt.ylim([0, 100])"
   ]
  }
 ],
 "metadata": {
  "kernelspec": {
   "display_name": "Python 3",
   "language": "python",
   "name": "python3"
  },
  "language_info": {
   "codemirror_mode": {
    "name": "ipython",
    "version": 3
   },
   "file_extension": ".py",
   "mimetype": "text/x-python",
   "name": "python",
   "nbconvert_exporter": "python",
   "pygments_lexer": "ipython3",
   "version": "3.7.10"
  },
  "notify_time": "10",
  "toc": {
   "base_numbering": 1,
   "nav_menu": {},
   "number_sections": true,
   "sideBar": true,
   "skip_h1_title": false,
   "title_cell": "Table of Contents",
   "title_sidebar": "Contents",
   "toc_cell": false,
   "toc_position": {
    "height": "calc(100% - 180px)",
    "left": "10px",
    "top": "150px",
    "width": "370px"
   },
   "toc_section_display": true,
   "toc_window_display": true
  },
  "varInspector": {
   "cols": {
    "lenName": 16,
    "lenType": 16,
    "lenVar": 40
   },
   "kernels_config": {
    "python": {
     "delete_cmd_postfix": "",
     "delete_cmd_prefix": "del ",
     "library": "var_list.py",
     "varRefreshCmd": "print(var_dic_list())"
    },
    "r": {
     "delete_cmd_postfix": ") ",
     "delete_cmd_prefix": "rm(",
     "library": "var_list.r",
     "varRefreshCmd": "cat(var_dic_list()) "
    }
   },
   "position": {
    "height": "337.844px",
    "left": "1178px",
    "right": "20px",
    "top": "136px",
    "width": "350px"
   },
   "types_to_exclude": [
    "module",
    "function",
    "builtin_function_or_method",
    "instance",
    "_Feature"
   ],
   "window_display": false
  }
 },
 "nbformat": 4,
 "nbformat_minor": 4
}
